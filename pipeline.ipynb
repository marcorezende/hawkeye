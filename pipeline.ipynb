{
 "cells": [
  {
   "metadata": {},
   "cell_type": "markdown",
   "source": "# Validação de processos necessários para criação da pipeline",
   "id": "97eb36012baeb4a3"
  },
  {
   "metadata": {},
   "cell_type": "markdown",
   "source": "## Instalação dependências",
   "id": "d08625eddb9da2a7"
  },
  {
   "metadata": {
    "ExecuteTime": {
     "end_time": "2025-09-27T15:17:16.698035Z",
     "start_time": "2025-09-27T15:16:37.970158Z"
    }
   },
   "cell_type": "code",
   "source": "!pip install -q duckdb pandas",
   "id": "b5d659ef8ec8c265",
   "outputs": [
    {
     "name": "stderr",
     "output_type": "stream",
     "text": [
      "\n",
      "[notice] A new release of pip is available: 23.2.1 -> 25.2\n",
      "[notice] To update, run: python.exe -m pip install --upgrade pip\n"
     ]
    }
   ],
   "execution_count": 5
  },
  {
   "metadata": {},
   "cell_type": "markdown",
   "source": [
    "## DuckDB\n",
    "O DuckDB é eficiente e de alto desempenho. Ao trabalhar com arquivos CSV, por exemplo, ele não precisa carregar o arquivo CSV inteiro na memória antes de poder processá-lo. Em vez disso, o DuckDB pode ler e processar dados do arquivo em tempo real. Para ver isso em ação, vamos usar o conjunto de dados de Atrasos e Cancelamentos de Voos de 2015."
   ],
   "id": "cf24d6fad90e6b56"
  },
  {
   "metadata": {},
   "cell_type": "markdown",
   "source": "## Leitura de arquivo com o DuckDB",
   "id": "fcbee45348b63538"
  },
  {
   "metadata": {
    "ExecuteTime": {
     "end_time": "2025-09-27T16:39:48.486905Z",
     "start_time": "2025-09-27T16:39:48.462081Z"
    }
   },
   "cell_type": "code",
   "source": [
    "import duckdb\n",
    "duckdb.sql('SELECT * FROM \"data/sample.csv\"').df()"
   ],
   "id": "47c1b7edb09c1258",
   "outputs": [
    {
     "data": {
      "text/plain": [
       "      Status  Código da avaliação  Código da Unidade       Unidade Cidade  \\\n",
       "0  Concluído            152622447            2821694  Generic shop   None   \n",
       "1  Concluído            152622447            2821694  Generic shop   None   \n",
       "\n",
       "  Estado Região/Grupo  Código Nome do checklist             Autor  ...  \\\n",
       "0   None         None  394104      Generic shop  Leidiane Marques  ...   \n",
       "1   None         None  394104      Generic shop  Leidiane Marques  ...   \n",
       "\n",
       "   Resultado                                 Comentário do item  \\\n",
       "0      79,56                                               None   \n",
       "1      79,56  Ar-condicionado e teto da cozinha com acúmulo ...   \n",
       "\n",
       "                          Imagens Plataforma Coordenadas Iniciais  \\\n",
       "0                            None        iOS                 None   \n",
       "1  https://app.com.br/evaluations        iOS                 None   \n",
       "\n",
       "   Coordenadas Finais               Comentários Finais  \\\n",
       "0                None  Auditoria finalizada na unidade   \n",
       "1                None             Auditoria finalizada   \n",
       "\n",
       "  Comentários do responsável da unidade Planos de Ação Ações  \n",
       "0                                  None           None  None  \n",
       "1                                  None           None  None  \n",
       "\n",
       "[2 rows x 30 columns]"
      ],
      "text/html": [
       "<div>\n",
       "<style scoped>\n",
       "    .dataframe tbody tr th:only-of-type {\n",
       "        vertical-align: middle;\n",
       "    }\n",
       "\n",
       "    .dataframe tbody tr th {\n",
       "        vertical-align: top;\n",
       "    }\n",
       "\n",
       "    .dataframe thead th {\n",
       "        text-align: right;\n",
       "    }\n",
       "</style>\n",
       "<table border=\"1\" class=\"dataframe\">\n",
       "  <thead>\n",
       "    <tr style=\"text-align: right;\">\n",
       "      <th></th>\n",
       "      <th>Status</th>\n",
       "      <th>Código da avaliação</th>\n",
       "      <th>Código da Unidade</th>\n",
       "      <th>Unidade</th>\n",
       "      <th>Cidade</th>\n",
       "      <th>Estado</th>\n",
       "      <th>Região/Grupo</th>\n",
       "      <th>Código</th>\n",
       "      <th>Nome do checklist</th>\n",
       "      <th>Autor</th>\n",
       "      <th>...</th>\n",
       "      <th>Resultado</th>\n",
       "      <th>Comentário do item</th>\n",
       "      <th>Imagens</th>\n",
       "      <th>Plataforma</th>\n",
       "      <th>Coordenadas Iniciais</th>\n",
       "      <th>Coordenadas Finais</th>\n",
       "      <th>Comentários Finais</th>\n",
       "      <th>Comentários do responsável da unidade</th>\n",
       "      <th>Planos de Ação</th>\n",
       "      <th>Ações</th>\n",
       "    </tr>\n",
       "  </thead>\n",
       "  <tbody>\n",
       "    <tr>\n",
       "      <th>0</th>\n",
       "      <td>Concluído</td>\n",
       "      <td>152622447</td>\n",
       "      <td>2821694</td>\n",
       "      <td>Generic shop</td>\n",
       "      <td>None</td>\n",
       "      <td>None</td>\n",
       "      <td>None</td>\n",
       "      <td>394104</td>\n",
       "      <td>Generic shop</td>\n",
       "      <td>Leidiane Marques</td>\n",
       "      <td>...</td>\n",
       "      <td>79,56</td>\n",
       "      <td>None</td>\n",
       "      <td>None</td>\n",
       "      <td>iOS</td>\n",
       "      <td>None</td>\n",
       "      <td>None</td>\n",
       "      <td>Auditoria finalizada na unidade</td>\n",
       "      <td>None</td>\n",
       "      <td>None</td>\n",
       "      <td>None</td>\n",
       "    </tr>\n",
       "    <tr>\n",
       "      <th>1</th>\n",
       "      <td>Concluído</td>\n",
       "      <td>152622447</td>\n",
       "      <td>2821694</td>\n",
       "      <td>Generic shop</td>\n",
       "      <td>None</td>\n",
       "      <td>None</td>\n",
       "      <td>None</td>\n",
       "      <td>394104</td>\n",
       "      <td>Generic shop</td>\n",
       "      <td>Leidiane Marques</td>\n",
       "      <td>...</td>\n",
       "      <td>79,56</td>\n",
       "      <td>Ar-condicionado e teto da cozinha com acúmulo ...</td>\n",
       "      <td>https://app.com.br/evaluations</td>\n",
       "      <td>iOS</td>\n",
       "      <td>None</td>\n",
       "      <td>None</td>\n",
       "      <td>Auditoria finalizada</td>\n",
       "      <td>None</td>\n",
       "      <td>None</td>\n",
       "      <td>None</td>\n",
       "    </tr>\n",
       "  </tbody>\n",
       "</table>\n",
       "<p>2 rows × 30 columns</p>\n",
       "</div>"
      ]
     },
     "execution_count": 20,
     "metadata": {},
     "output_type": "execute_result"
    }
   ],
   "execution_count": 20
  },
  {
   "metadata": {},
   "cell_type": "markdown",
   "source": "## Mecanismo de processamento incremental",
   "id": "886cc5aff69584ed"
  },
  {
   "metadata": {
    "ExecuteTime": {
     "end_time": "2025-09-27T15:20:05.789641Z",
     "start_time": "2025-09-27T15:20:05.763935Z"
    }
   },
   "cell_type": "code",
   "source": [
    "import duckdb\n",
    "duckdb.sql('SELECT * FROM \"data/sample.csv\"').df()"
   ],
   "id": "8be326337225aac8",
   "outputs": [
    {
     "data": {
      "text/plain": [
       "      Status  Código da avaliação  Código da Unidade       Unidade Cidade  \\\n",
       "0  Concluído            152622447            2821694  Generic shop   None   \n",
       "1  Concluído            152622447            2821694  Generic shop   None   \n",
       "\n",
       "  Estado Região/Grupo  Código Nome do checklist             Autor  ...  \\\n",
       "0   None         None  394104      Generic shop  Leidiane Marques  ...   \n",
       "1   None         None  394104      Generic shop  Leidiane Marques  ...   \n",
       "\n",
       "   Resultado                                 Comentário do item  \\\n",
       "0      79,56                                               None   \n",
       "1      79,56  Ar-condicionado e teto da cozinha com acúmulo ...   \n",
       "\n",
       "                          Imagens Plataforma Coordenadas Iniciais  \\\n",
       "0                            None        iOS                 None   \n",
       "1  https://app.com.br/evaluations        iOS                 None   \n",
       "\n",
       "   Coordenadas Finais               Comentários Finais  \\\n",
       "0                None  Auditoria finalizada na unidade   \n",
       "1                None             Auditoria finalizada   \n",
       "\n",
       "  Comentários do responsável da unidade Planos de Ação Ações  \n",
       "0                                  None           None  None  \n",
       "1                                  None           None  None  \n",
       "\n",
       "[2 rows x 30 columns]"
      ],
      "text/html": [
       "<div>\n",
       "<style scoped>\n",
       "    .dataframe tbody tr th:only-of-type {\n",
       "        vertical-align: middle;\n",
       "    }\n",
       "\n",
       "    .dataframe tbody tr th {\n",
       "        vertical-align: top;\n",
       "    }\n",
       "\n",
       "    .dataframe thead th {\n",
       "        text-align: right;\n",
       "    }\n",
       "</style>\n",
       "<table border=\"1\" class=\"dataframe\">\n",
       "  <thead>\n",
       "    <tr style=\"text-align: right;\">\n",
       "      <th></th>\n",
       "      <th>Status</th>\n",
       "      <th>Código da avaliação</th>\n",
       "      <th>Código da Unidade</th>\n",
       "      <th>Unidade</th>\n",
       "      <th>Cidade</th>\n",
       "      <th>Estado</th>\n",
       "      <th>Região/Grupo</th>\n",
       "      <th>Código</th>\n",
       "      <th>Nome do checklist</th>\n",
       "      <th>Autor</th>\n",
       "      <th>...</th>\n",
       "      <th>Resultado</th>\n",
       "      <th>Comentário do item</th>\n",
       "      <th>Imagens</th>\n",
       "      <th>Plataforma</th>\n",
       "      <th>Coordenadas Iniciais</th>\n",
       "      <th>Coordenadas Finais</th>\n",
       "      <th>Comentários Finais</th>\n",
       "      <th>Comentários do responsável da unidade</th>\n",
       "      <th>Planos de Ação</th>\n",
       "      <th>Ações</th>\n",
       "    </tr>\n",
       "  </thead>\n",
       "  <tbody>\n",
       "    <tr>\n",
       "      <th>0</th>\n",
       "      <td>Concluído</td>\n",
       "      <td>152622447</td>\n",
       "      <td>2821694</td>\n",
       "      <td>Generic shop</td>\n",
       "      <td>None</td>\n",
       "      <td>None</td>\n",
       "      <td>None</td>\n",
       "      <td>394104</td>\n",
       "      <td>Generic shop</td>\n",
       "      <td>Leidiane Marques</td>\n",
       "      <td>...</td>\n",
       "      <td>79,56</td>\n",
       "      <td>None</td>\n",
       "      <td>None</td>\n",
       "      <td>iOS</td>\n",
       "      <td>None</td>\n",
       "      <td>None</td>\n",
       "      <td>Auditoria finalizada na unidade</td>\n",
       "      <td>None</td>\n",
       "      <td>None</td>\n",
       "      <td>None</td>\n",
       "    </tr>\n",
       "    <tr>\n",
       "      <th>1</th>\n",
       "      <td>Concluído</td>\n",
       "      <td>152622447</td>\n",
       "      <td>2821694</td>\n",
       "      <td>Generic shop</td>\n",
       "      <td>None</td>\n",
       "      <td>None</td>\n",
       "      <td>None</td>\n",
       "      <td>394104</td>\n",
       "      <td>Generic shop</td>\n",
       "      <td>Leidiane Marques</td>\n",
       "      <td>...</td>\n",
       "      <td>79,56</td>\n",
       "      <td>Ar-condicionado e teto da cozinha com acúmulo ...</td>\n",
       "      <td>https://app.com.br/evaluations</td>\n",
       "      <td>iOS</td>\n",
       "      <td>None</td>\n",
       "      <td>None</td>\n",
       "      <td>Auditoria finalizada</td>\n",
       "      <td>None</td>\n",
       "      <td>None</td>\n",
       "      <td>None</td>\n",
       "    </tr>\n",
       "  </tbody>\n",
       "</table>\n",
       "<p>2 rows × 30 columns</p>\n",
       "</div>"
      ]
     },
     "execution_count": 10,
     "metadata": {},
     "output_type": "execute_result"
    }
   ],
   "execution_count": 10
  },
  {
   "metadata": {
    "ExecuteTime": {
     "end_time": "2025-09-27T15:22:33.973606Z",
     "start_time": "2025-09-27T15:22:33.947212Z"
    }
   },
   "cell_type": "code",
   "source": [
    "import duckdb\n",
    "duckdb.sql('SELECT * FROM \"data/sample2.csv\"').df()"
   ],
   "id": "812e7a2530bfa830",
   "outputs": [
    {
     "data": {
      "text/plain": [
       "      Status  Código da avaliação  Código da Unidade       Unidade Cidade  \\\n",
       "0  Concluído            152622448            2821695  Generic shop   None   \n",
       "\n",
       "  Estado Região/Grupo  Código Nome do checklist         Autor  ...  Resultado  \\\n",
       "0   None         None  394104      Generic shop  Ruth Andrade  ...      79,56   \n",
       "\n",
       "                 Comentário do item                         Imagens  \\\n",
       "0  Necessário realizar higienização  https://app.com.br/evaluations   \n",
       "\n",
       "  Plataforma Coordenadas Iniciais  Coordenadas Finais    Comentários Finais  \\\n",
       "0        iOS                 None                None  Auditoria finalizada   \n",
       "\n",
       "  Comentários do responsável da unidade Planos de Ação Ações  \n",
       "0                                  None           None  None  \n",
       "\n",
       "[1 rows x 30 columns]"
      ],
      "text/html": [
       "<div>\n",
       "<style scoped>\n",
       "    .dataframe tbody tr th:only-of-type {\n",
       "        vertical-align: middle;\n",
       "    }\n",
       "\n",
       "    .dataframe tbody tr th {\n",
       "        vertical-align: top;\n",
       "    }\n",
       "\n",
       "    .dataframe thead th {\n",
       "        text-align: right;\n",
       "    }\n",
       "</style>\n",
       "<table border=\"1\" class=\"dataframe\">\n",
       "  <thead>\n",
       "    <tr style=\"text-align: right;\">\n",
       "      <th></th>\n",
       "      <th>Status</th>\n",
       "      <th>Código da avaliação</th>\n",
       "      <th>Código da Unidade</th>\n",
       "      <th>Unidade</th>\n",
       "      <th>Cidade</th>\n",
       "      <th>Estado</th>\n",
       "      <th>Região/Grupo</th>\n",
       "      <th>Código</th>\n",
       "      <th>Nome do checklist</th>\n",
       "      <th>Autor</th>\n",
       "      <th>...</th>\n",
       "      <th>Resultado</th>\n",
       "      <th>Comentário do item</th>\n",
       "      <th>Imagens</th>\n",
       "      <th>Plataforma</th>\n",
       "      <th>Coordenadas Iniciais</th>\n",
       "      <th>Coordenadas Finais</th>\n",
       "      <th>Comentários Finais</th>\n",
       "      <th>Comentários do responsável da unidade</th>\n",
       "      <th>Planos de Ação</th>\n",
       "      <th>Ações</th>\n",
       "    </tr>\n",
       "  </thead>\n",
       "  <tbody>\n",
       "    <tr>\n",
       "      <th>0</th>\n",
       "      <td>Concluído</td>\n",
       "      <td>152622448</td>\n",
       "      <td>2821695</td>\n",
       "      <td>Generic shop</td>\n",
       "      <td>None</td>\n",
       "      <td>None</td>\n",
       "      <td>None</td>\n",
       "      <td>394104</td>\n",
       "      <td>Generic shop</td>\n",
       "      <td>Ruth Andrade</td>\n",
       "      <td>...</td>\n",
       "      <td>79,56</td>\n",
       "      <td>Necessário realizar higienização</td>\n",
       "      <td>https://app.com.br/evaluations</td>\n",
       "      <td>iOS</td>\n",
       "      <td>None</td>\n",
       "      <td>None</td>\n",
       "      <td>Auditoria finalizada</td>\n",
       "      <td>None</td>\n",
       "      <td>None</td>\n",
       "      <td>None</td>\n",
       "    </tr>\n",
       "  </tbody>\n",
       "</table>\n",
       "<p>1 rows × 30 columns</p>\n",
       "</div>"
      ]
     },
     "execution_count": 11,
     "metadata": {},
     "output_type": "execute_result"
    }
   ],
   "execution_count": 11
  },
  {
   "metadata": {
    "ExecuteTime": {
     "end_time": "2025-09-27T15:32:12.389251Z",
     "start_time": "2025-09-27T15:32:12.328435Z"
    }
   },
   "cell_type": "code",
   "source": [
    "duckdb.sql('CREATE TABLE raw AS SELECT * FROM \"data/sample.csv\"')\n",
    "duckdb.sql('SELECT * FROM raw')\n",
    "\n",
    "duckdb.sql('''\n",
    "SELECT * FROM \"data/*.csv\"\n",
    "WHERE \"Data de sincronização\" > (SELECT MAX(\"Data de sincronização\") FROM raw)\n",
    "''').df()\n",
    "\n"
   ],
   "id": "6e14f63445e0fc8e",
   "outputs": [
    {
     "data": {
      "text/plain": [
       "      Status  Código da avaliação  Código da Unidade       Unidade Cidade  \\\n",
       "0  Concluído            152622448            2821695  Generic shop   None   \n",
       "\n",
       "  Estado Região/Grupo  Código Nome do checklist         Autor  ...  Resultado  \\\n",
       "0   None         None  394104      Generic shop  Ruth Andrade  ...      79,56   \n",
       "\n",
       "                 Comentário do item                         Imagens  \\\n",
       "0  Necessário realizar higienização  https://app.com.br/evaluations   \n",
       "\n",
       "  Plataforma Coordenadas Iniciais  Coordenadas Finais    Comentários Finais  \\\n",
       "0        iOS                 None                None  Auditoria finalizada   \n",
       "\n",
       "  Comentários do responsável da unidade Planos de Ação Ações  \n",
       "0                                  None           None  None  \n",
       "\n",
       "[1 rows x 30 columns]"
      ],
      "text/html": [
       "<div>\n",
       "<style scoped>\n",
       "    .dataframe tbody tr th:only-of-type {\n",
       "        vertical-align: middle;\n",
       "    }\n",
       "\n",
       "    .dataframe tbody tr th {\n",
       "        vertical-align: top;\n",
       "    }\n",
       "\n",
       "    .dataframe thead th {\n",
       "        text-align: right;\n",
       "    }\n",
       "</style>\n",
       "<table border=\"1\" class=\"dataframe\">\n",
       "  <thead>\n",
       "    <tr style=\"text-align: right;\">\n",
       "      <th></th>\n",
       "      <th>Status</th>\n",
       "      <th>Código da avaliação</th>\n",
       "      <th>Código da Unidade</th>\n",
       "      <th>Unidade</th>\n",
       "      <th>Cidade</th>\n",
       "      <th>Estado</th>\n",
       "      <th>Região/Grupo</th>\n",
       "      <th>Código</th>\n",
       "      <th>Nome do checklist</th>\n",
       "      <th>Autor</th>\n",
       "      <th>...</th>\n",
       "      <th>Resultado</th>\n",
       "      <th>Comentário do item</th>\n",
       "      <th>Imagens</th>\n",
       "      <th>Plataforma</th>\n",
       "      <th>Coordenadas Iniciais</th>\n",
       "      <th>Coordenadas Finais</th>\n",
       "      <th>Comentários Finais</th>\n",
       "      <th>Comentários do responsável da unidade</th>\n",
       "      <th>Planos de Ação</th>\n",
       "      <th>Ações</th>\n",
       "    </tr>\n",
       "  </thead>\n",
       "  <tbody>\n",
       "    <tr>\n",
       "      <th>0</th>\n",
       "      <td>Concluído</td>\n",
       "      <td>152622448</td>\n",
       "      <td>2821695</td>\n",
       "      <td>Generic shop</td>\n",
       "      <td>None</td>\n",
       "      <td>None</td>\n",
       "      <td>None</td>\n",
       "      <td>394104</td>\n",
       "      <td>Generic shop</td>\n",
       "      <td>Ruth Andrade</td>\n",
       "      <td>...</td>\n",
       "      <td>79,56</td>\n",
       "      <td>Necessário realizar higienização</td>\n",
       "      <td>https://app.com.br/evaluations</td>\n",
       "      <td>iOS</td>\n",
       "      <td>None</td>\n",
       "      <td>None</td>\n",
       "      <td>Auditoria finalizada</td>\n",
       "      <td>None</td>\n",
       "      <td>None</td>\n",
       "      <td>None</td>\n",
       "    </tr>\n",
       "  </tbody>\n",
       "</table>\n",
       "<p>1 rows × 30 columns</p>\n",
       "</div>"
      ]
     },
     "execution_count": 12,
     "metadata": {},
     "output_type": "execute_result"
    }
   ],
   "execution_count": 12
  },
  {
   "metadata": {},
   "cell_type": "markdown",
   "source": "## Integração do MinIO e DuckDB",
   "id": "eb9d90d57b383a2e"
  },
  {
   "metadata": {},
   "cell_type": "markdown",
   "source": "### Criação das credenciais",
   "id": "16e019eb5be007dc"
  },
  {
   "metadata": {
    "ExecuteTime": {
     "end_time": "2025-09-27T15:43:45.103166Z",
     "start_time": "2025-09-27T15:43:41.000856Z"
    }
   },
   "cell_type": "code",
   "source": [
    "duckdb.sql(\"\"\"\n",
    "CREATE OR REPLACE PERSISTENT SECRET my_secret (\n",
    "TYPE S3,\n",
    "REGION 'us-east-1',\n",
    "KEY_ID 'TESTE123',\n",
    "SECRET 'TESTE123',\n",
    "ENDPOINT 'localhost:9000',\n",
    "USE_SSL 'false',\n",
    "URL_STYLE 'path');\n",
    "\"\"\")\n"
   ],
   "id": "aabf8dce2bb668be",
   "outputs": [
    {
     "data": {
      "text/plain": [
       "┌─────────┐\n",
       "│ Success │\n",
       "│ boolean │\n",
       "├─────────┤\n",
       "│ true    │\n",
       "└─────────┘"
      ]
     },
     "execution_count": 14,
     "metadata": {},
     "output_type": "execute_result"
    }
   ],
   "execution_count": 14
  },
  {
   "metadata": {},
   "cell_type": "markdown",
   "source": "### Escrita para o MinIO",
   "id": "1eb09ee387604b47"
  },
  {
   "metadata": {
    "ExecuteTime": {
     "end_time": "2025-09-27T15:44:15.377566Z",
     "start_time": "2025-09-27T15:44:15.279390Z"
    }
   },
   "cell_type": "code",
   "source": [
    "duckdb.sql(\"\"\"\n",
    "COPY (SELECT\n",
    "\"Código da avaliação\" as id,\n",
    "Unidade as unidade,\n",
    "Cidade as cidade,\n",
    "Autor as autor,\n",
    "FROM 'data/*.csv') TO 's3://hawkeye/checklist.parquet' (FORMAT 'parquet');\n",
    "\"\"\")"
   ],
   "id": "bf2c57f0f7a42884",
   "outputs": [],
   "execution_count": 16
  },
  {
   "metadata": {},
   "cell_type": "markdown",
   "source": "### Leitura arquivo do MinIO",
   "id": "e64dcdbfa27f7470"
  },
  {
   "metadata": {
    "ExecuteTime": {
     "end_time": "2025-09-27T15:45:32.898338Z",
     "start_time": "2025-09-27T15:45:32.889825Z"
    }
   },
   "cell_type": "code",
   "source": [
    "duckdb.sql(\"\"\"\n",
    "SELECT\n",
    "id,\n",
    "unidade,\n",
    "cidade,\n",
    "autor,\n",
    "FROM 's3://hawkeye/checklist.parquet';\n",
    "\"\"\").df()"
   ],
   "id": "3abd822d4dcab07e",
   "outputs": [
    {
     "data": {
      "text/plain": [
       "          id       unidade cidade             autor\n",
       "0  152622447  Generic shop   None  Leidiane Marques\n",
       "1  152622447  Generic shop   None  Leidiane Marques\n",
       "2  152622448  Generic shop   None      Ruth Andrade"
      ],
      "text/html": [
       "<div>\n",
       "<style scoped>\n",
       "    .dataframe tbody tr th:only-of-type {\n",
       "        vertical-align: middle;\n",
       "    }\n",
       "\n",
       "    .dataframe tbody tr th {\n",
       "        vertical-align: top;\n",
       "    }\n",
       "\n",
       "    .dataframe thead th {\n",
       "        text-align: right;\n",
       "    }\n",
       "</style>\n",
       "<table border=\"1\" class=\"dataframe\">\n",
       "  <thead>\n",
       "    <tr style=\"text-align: right;\">\n",
       "      <th></th>\n",
       "      <th>id</th>\n",
       "      <th>unidade</th>\n",
       "      <th>cidade</th>\n",
       "      <th>autor</th>\n",
       "    </tr>\n",
       "  </thead>\n",
       "  <tbody>\n",
       "    <tr>\n",
       "      <th>0</th>\n",
       "      <td>152622447</td>\n",
       "      <td>Generic shop</td>\n",
       "      <td>None</td>\n",
       "      <td>Leidiane Marques</td>\n",
       "    </tr>\n",
       "    <tr>\n",
       "      <th>1</th>\n",
       "      <td>152622447</td>\n",
       "      <td>Generic shop</td>\n",
       "      <td>None</td>\n",
       "      <td>Leidiane Marques</td>\n",
       "    </tr>\n",
       "    <tr>\n",
       "      <th>2</th>\n",
       "      <td>152622448</td>\n",
       "      <td>Generic shop</td>\n",
       "      <td>None</td>\n",
       "      <td>Ruth Andrade</td>\n",
       "    </tr>\n",
       "  </tbody>\n",
       "</table>\n",
       "</div>"
      ]
     },
     "execution_count": 18,
     "metadata": {},
     "output_type": "execute_result"
    }
   ],
   "execution_count": 18
  },
  {
   "metadata": {},
   "cell_type": "markdown",
   "source": "### Leitura e escrita entre arquivos no MinIO",
   "id": "5c8dc0a0d647610b"
  },
  {
   "metadata": {
    "ExecuteTime": {
     "end_time": "2025-09-27T15:47:24.830799Z",
     "start_time": "2025-09-27T15:47:24.768918Z"
    }
   },
   "cell_type": "code",
   "source": [
    "duckdb.sql(\"\"\"\n",
    "COPY (SELECT\n",
    "id as id2,\n",
    "unidade as unidade2,\n",
    "cidade as cidade2,\n",
    "autor as autor2,\n",
    "FROM 's3://hawkeye/checklist.parquet') TO 's3://hawkeye/checklist2.parquet' (FORMAT 'parquet');\n",
    "\"\"\")"
   ],
   "id": "9c8ba635342fb78b",
   "outputs": [],
   "execution_count": 19
  }
 ],
 "metadata": {
  "kernelspec": {
   "name": "python3",
   "language": "python",
   "display_name": "Python 3 (ipykernel)"
  }
 },
 "nbformat": 5,
 "nbformat_minor": 9
}
