{
  "nbformat": 4,
  "nbformat_minor": 0,
  "metadata": {
    "colab": {
      "provenance": []
    },
    "kernelspec": {
      "name": "python3",
      "display_name": "Python 3"
    },
    "language_info": {
      "name": "python"
    },
    "widgets": {
      "application/vnd.jupyter.widget-state+json": {
        "acd67aed5fc94b7eaf01ea4615411908": {
          "model_module": "@jupyter-widgets/controls",
          "model_name": "FloatProgressModel",
          "model_module_version": "1.5.0",
          "state": {
            "_dom_classes": [],
            "_model_module": "@jupyter-widgets/controls",
            "_model_module_version": "1.5.0",
            "_model_name": "FloatProgressModel",
            "_view_count": null,
            "_view_module": "@jupyter-widgets/controls",
            "_view_module_version": "1.5.0",
            "_view_name": "ProgressView",
            "bar_style": "",
            "description": "",
            "description_tooltip": null,
            "layout": "IPY_MODEL_9d210da4296d4d8a8df89231583e99ea",
            "max": 100,
            "min": 0,
            "orientation": "horizontal",
            "style": "IPY_MODEL_337b2e1241fb40c79fbed7c6b33fd92c",
            "value": 100
          }
        },
        "9d210da4296d4d8a8df89231583e99ea": {
          "model_module": "@jupyter-widgets/base",
          "model_name": "LayoutModel",
          "model_module_version": "1.2.0",
          "state": {
            "_model_module": "@jupyter-widgets/base",
            "_model_module_version": "1.2.0",
            "_model_name": "LayoutModel",
            "_view_count": null,
            "_view_module": "@jupyter-widgets/base",
            "_view_module_version": "1.2.0",
            "_view_name": "LayoutView",
            "align_content": null,
            "align_items": null,
            "align_self": null,
            "border": null,
            "bottom": null,
            "display": null,
            "flex": null,
            "flex_flow": null,
            "grid_area": null,
            "grid_auto_columns": null,
            "grid_auto_flow": null,
            "grid_auto_rows": null,
            "grid_column": null,
            "grid_gap": null,
            "grid_row": null,
            "grid_template_areas": null,
            "grid_template_columns": null,
            "grid_template_rows": null,
            "height": null,
            "justify_content": null,
            "justify_items": null,
            "left": null,
            "margin": null,
            "max_height": null,
            "max_width": null,
            "min_height": null,
            "min_width": null,
            "object_fit": null,
            "object_position": null,
            "order": null,
            "overflow": null,
            "overflow_x": null,
            "overflow_y": null,
            "padding": null,
            "right": null,
            "top": null,
            "visibility": null,
            "width": "auto"
          }
        },
        "337b2e1241fb40c79fbed7c6b33fd92c": {
          "model_module": "@jupyter-widgets/controls",
          "model_name": "ProgressStyleModel",
          "model_module_version": "1.5.0",
          "state": {
            "_model_module": "@jupyter-widgets/controls",
            "_model_module_version": "1.5.0",
            "_model_name": "ProgressStyleModel",
            "_view_count": null,
            "_view_module": "@jupyter-widgets/base",
            "_view_module_version": "1.2.0",
            "_view_name": "StyleView",
            "bar_color": "black",
            "description_width": ""
          }
        },
        "88a750fcc7884a69a7c8d5d45796a8fc": {
          "model_module": "@jupyter-widgets/controls",
          "model_name": "FloatProgressModel",
          "model_module_version": "1.5.0",
          "state": {
            "_dom_classes": [],
            "_model_module": "@jupyter-widgets/controls",
            "_model_module_version": "1.5.0",
            "_model_name": "FloatProgressModel",
            "_view_count": null,
            "_view_module": "@jupyter-widgets/controls",
            "_view_module_version": "1.5.0",
            "_view_name": "ProgressView",
            "bar_style": "",
            "description": "",
            "description_tooltip": null,
            "layout": "IPY_MODEL_959264b3941c4b4c89dfca8d526fe065",
            "max": 100,
            "min": 0,
            "orientation": "horizontal",
            "style": "IPY_MODEL_60fb916a68924c6babd6fa6d9648ef0d",
            "value": 100
          }
        },
        "959264b3941c4b4c89dfca8d526fe065": {
          "model_module": "@jupyter-widgets/base",
          "model_name": "LayoutModel",
          "model_module_version": "1.2.0",
          "state": {
            "_model_module": "@jupyter-widgets/base",
            "_model_module_version": "1.2.0",
            "_model_name": "LayoutModel",
            "_view_count": null,
            "_view_module": "@jupyter-widgets/base",
            "_view_module_version": "1.2.0",
            "_view_name": "LayoutView",
            "align_content": null,
            "align_items": null,
            "align_self": null,
            "border": null,
            "bottom": null,
            "display": null,
            "flex": null,
            "flex_flow": null,
            "grid_area": null,
            "grid_auto_columns": null,
            "grid_auto_flow": null,
            "grid_auto_rows": null,
            "grid_column": null,
            "grid_gap": null,
            "grid_row": null,
            "grid_template_areas": null,
            "grid_template_columns": null,
            "grid_template_rows": null,
            "height": null,
            "justify_content": null,
            "justify_items": null,
            "left": null,
            "margin": null,
            "max_height": null,
            "max_width": null,
            "min_height": null,
            "min_width": null,
            "object_fit": null,
            "object_position": null,
            "order": null,
            "overflow": null,
            "overflow_x": null,
            "overflow_y": null,
            "padding": null,
            "right": null,
            "top": null,
            "visibility": null,
            "width": "auto"
          }
        },
        "60fb916a68924c6babd6fa6d9648ef0d": {
          "model_module": "@jupyter-widgets/controls",
          "model_name": "ProgressStyleModel",
          "model_module_version": "1.5.0",
          "state": {
            "_model_module": "@jupyter-widgets/controls",
            "_model_module_version": "1.5.0",
            "_model_name": "ProgressStyleModel",
            "_view_count": null,
            "_view_module": "@jupyter-widgets/base",
            "_view_module_version": "1.2.0",
            "_view_name": "StyleView",
            "bar_color": "black",
            "description_width": ""
          }
        }
      }
    }
  },
  "cells": [
    {
      "cell_type": "markdown",
      "source": [
        "# PoC - Ferramenta de processamento"
      ],
      "metadata": {
        "id": "ahj_UNpIN74f"
      }
    },
    {
      "cell_type": "markdown",
      "source": [
        "## Avaliação de Ferramentas de Processamento – PoC\n",
        "\n",
        "Este documento consolida os resultados da PoC realizada para comparar **Pandas, DuckDB, PySpark e Polars**.\n",
        "\n",
        "---\n",
        "\n",
        "## Critérios e Pesos\n",
        "\n",
        "| Critério               | Descrição                                                              |\n",
        "| ---------------------- | ---------------------------------------------------------------------- |\n",
        "| Performance            | Tempo de execução em filtros, joins e agregações                       |\n",
        "| Uso de Recursos        | Consumo de memória e CPU                                               |\n",
        "| Facilidade de Uso      | Simplicidade da API e curva de aprendizado                             |\n",
        "| Integração             | Compatibilidade com formatos e ferramentas externas                    |\n",
        "| Custo / Infraestrutura | Necessidade de recursos adicionais e adequação ao ambiente de produção |\n",
        "\n",
        "A ferramenta escolhida será aquela que apresentar **maior facilidade de uso**, **melhor performance** e que atenda aos requisitos de **leitura de arquivos CSV** e **escrita em formato Parquet**.\n",
        "\n"
      ],
      "metadata": {
        "id": "kywvVx3rOY84"
      }
    },
    {
      "cell_type": "markdown",
      "source": [
        "## Preparação dos dados"
      ],
      "metadata": {
        "id": "JTqQXvdpO_M0"
      }
    },
    {
      "cell_type": "code",
      "source": [
        "!pip install pandas duckdb pyspark polars"
      ],
      "metadata": {
        "colab": {
          "base_uri": "https://localhost:8080/"
        },
        "id": "r_BiDa_DPB76",
        "outputId": "60148ba4-85f1-48f6-9f13-0083258d438d"
      },
      "execution_count": 1,
      "outputs": [
        {
          "output_type": "stream",
          "name": "stdout",
          "text": [
            "Requirement already satisfied: pandas in /usr/local/lib/python3.12/dist-packages (2.2.2)\n",
            "Requirement already satisfied: duckdb in /usr/local/lib/python3.12/dist-packages (1.3.2)\n",
            "Requirement already satisfied: pyspark in /usr/local/lib/python3.12/dist-packages (3.5.1)\n",
            "Requirement already satisfied: polars in /usr/local/lib/python3.12/dist-packages (1.25.2)\n",
            "Requirement already satisfied: numpy>=1.26.0 in /usr/local/lib/python3.12/dist-packages (from pandas) (2.0.2)\n",
            "Requirement already satisfied: python-dateutil>=2.8.2 in /usr/local/lib/python3.12/dist-packages (from pandas) (2.9.0.post0)\n",
            "Requirement already satisfied: pytz>=2020.1 in /usr/local/lib/python3.12/dist-packages (from pandas) (2025.2)\n",
            "Requirement already satisfied: tzdata>=2022.7 in /usr/local/lib/python3.12/dist-packages (from pandas) (2025.2)\n",
            "Requirement already satisfied: py4j==0.10.9.7 in /usr/local/lib/python3.12/dist-packages (from pyspark) (0.10.9.7)\n",
            "Requirement already satisfied: six>=1.5 in /usr/local/lib/python3.12/dist-packages (from python-dateutil>=2.8.2->pandas) (1.17.0)\n"
          ]
        }
      ]
    },
    {
      "cell_type": "code",
      "source": [
        "import duckdb\n",
        "duckdb.sql('''\n",
        "INSTALL tpch;\n",
        "LOAD tpch;\n",
        "''')\n",
        "duckdb.sql('''\n",
        "CALL dbgen(sf = 1);\n",
        "''')"
      ],
      "metadata": {
        "colab": {
          "base_uri": "https://localhost:8080/",
          "height": 153,
          "referenced_widgets": [
            "acd67aed5fc94b7eaf01ea4615411908",
            "9d210da4296d4d8a8df89231583e99ea",
            "337b2e1241fb40c79fbed7c6b33fd92c"
          ]
        },
        "id": "0iJU_epZP_-E",
        "outputId": "84d0fbd7-17cf-406f-8bc1-301fc960b0bc"
      },
      "execution_count": 2,
      "outputs": [
        {
          "output_type": "display_data",
          "data": {
            "text/plain": [
              "FloatProgress(value=0.0, layout=Layout(width='auto'), style=ProgressStyle(bar_color='black'))"
            ],
            "application/vnd.jupyter.widget-view+json": {
              "version_major": 2,
              "version_minor": 0,
              "model_id": "acd67aed5fc94b7eaf01ea4615411908"
            }
          },
          "metadata": {}
        },
        {
          "output_type": "execute_result",
          "data": {
            "text/plain": [
              "┌─────────┐\n",
              "│ Success │\n",
              "│ boolean │\n",
              "├─────────┤\n",
              "│ 0 rows  │\n",
              "└─────────┘"
            ]
          },
          "metadata": {},
          "execution_count": 2
        }
      ]
    },
    {
      "cell_type": "code",
      "source": [
        "def generate_parquet_delta(table):\n",
        "    duckdb.sql(f\"select * from {table}\").write_parquet(f'{table}.parquet')\n",
        "\n",
        "\n",
        "for x in ['nation', 'region', 'customer', 'supplier', 'lineitem', 'orders', 'partsupp', 'part']:\n",
        "    generate_parquet_delta(x)"
      ],
      "metadata": {
        "colab": {
          "base_uri": "https://localhost:8080/",
          "height": 49,
          "referenced_widgets": [
            "88a750fcc7884a69a7c8d5d45796a8fc",
            "959264b3941c4b4c89dfca8d526fe065",
            "60fb916a68924c6babd6fa6d9648ef0d"
          ]
        },
        "id": "fATgFtLBQ2RY",
        "outputId": "e925d4c6-9e4c-474e-e4a0-7791656015b3"
      },
      "execution_count": 3,
      "outputs": [
        {
          "output_type": "display_data",
          "data": {
            "text/plain": [
              "FloatProgress(value=0.0, layout=Layout(width='auto'), style=ProgressStyle(bar_color='black'))"
            ],
            "application/vnd.jupyter.widget-view+json": {
              "version_major": 2,
              "version_minor": 0,
              "model_id": "88a750fcc7884a69a7c8d5d45796a8fc"
            }
          },
          "metadata": {}
        }
      ]
    },
    {
      "cell_type": "markdown",
      "source": [
        "## Performance\n",
        "\n",
        "Os testes de performance serão realizados utilizando o **TPC-H Benchmark**, com dados gerados via `CALL dbgen(sf=1)`.  \n",
        "\n",
        "As queries selecionadas serão baseadas no conjunto oficial do TPC-H:  \n",
        " [https://www.tpc.org/tpch/](https://www.tpc.org/tpch/)\n",
        "\n",
        "---\n",
        "\n",
        "## Setup do Teste\n",
        "- **Dataset:** TPC-H com Scale Factor de 1 e arquivos Parquet\n",
        "- **Ferramentas testadas:** Pandas, DuckDB, PySpark, Polars  \n",
        "- **Métrica principal:** Tempo de execução (segundos)  \n",
        "- **Hardware:** 12 GB RAM  \n",
        "\n",
        "---\n",
        "\n",
        "## Queries Selecionadas\n",
        "Queries TPC-H para serem utilizadas no benchmark:\n",
        "- **Q1:** Pricing Summary Report  \n",
        "- **Q3:** Shipping Priority  \n",
        "- **Q5:** Local Supplier Volume  \n",
        "- **Q6:** Forecasting Revenue Change  \n",
        "- **Q12:** Shipping Modes and Order Priority  \n"
      ],
      "metadata": {
        "id": "koK4WKjTOuK0"
      }
    },
    {
      "cell_type": "code",
      "source": [
        "time_data = []"
      ],
      "metadata": {
        "id": "HEsGshO7LKUj"
      },
      "execution_count": 4,
      "outputs": []
    },
    {
      "cell_type": "markdown",
      "source": [
        "### Pandas"
      ],
      "metadata": {
        "id": "WBTqh_kkOxqD"
      }
    },
    {
      "cell_type": "code",
      "source": [
        "import pandas as pd\n",
        "import time\n",
        "\n",
        "# 🔧 Carregando tabelas necessárias (ajuste os paths conforme seu Colab)\n",
        "lineitem = pd.read_parquet(\"/content/lineitem.parquet\")\n",
        "orders   = pd.read_parquet(\"/content/orders.parquet\")\n",
        "customer = pd.read_parquet(\"/content/customer.parquet\")\n",
        "nation   = pd.read_parquet(\"/content/nation.parquet\")\n",
        "region   = pd.read_parquet(\"/content/region.parquet\")\n",
        "supplier = pd.read_parquet(\"/content/supplier.parquet\")\n",
        "\n",
        "def benchmark(query_name, func):\n",
        "    start = time.time()\n",
        "    result = func()\n",
        "    elapsed = time.time() - start\n",
        "    print(f\"{query_name} executada em {elapsed:.2f}s\")\n",
        "    time_data.append({'tool': 'pandas', 'query': query_name, 'time': elapsed})\n",
        "    return result\n"
      ],
      "metadata": {
        "id": "qVu2tK9hO7D0"
      },
      "execution_count": 5,
      "outputs": []
    },
    {
      "cell_type": "markdown",
      "source": [
        "#### Q1 – Pricing Summary Report\n",
        "\n",
        "SQL Original: agrega lineitem por returnflag e linestatus."
      ],
      "metadata": {
        "id": "B3RSIrnSRgay"
      }
    },
    {
      "cell_type": "code",
      "source": [
        "def q1():\n",
        "    return (\n",
        "        lineitem\n",
        "        .assign(l_extendedprice_disc=lambda df: df.l_extendedprice * (1 - df.l_discount))\n",
        "        .groupby([\"l_returnflag\", \"l_linestatus\"], as_index=False)\n",
        "        .agg(\n",
        "            sum_qty=(\"l_quantity\", \"sum\"),\n",
        "            sum_base_price=(\"l_extendedprice\", \"sum\"),\n",
        "            sum_disc_price=(\"l_extendedprice_disc\", \"sum\"),\n",
        "            sum_charge=(\"l_extendedprice\", lambda x: (x * (1 - lineitem.l_discount) * (1 + lineitem.l_tax)).sum()),\n",
        "            avg_qty=(\"l_quantity\", \"mean\"),\n",
        "            avg_price=(\"l_extendedprice\", \"mean\"),\n",
        "            avg_disc=(\"l_discount\", \"mean\"),\n",
        "            count_order=(\"l_orderkey\", \"count\"),\n",
        "        )\n",
        "        .sort_values([\"l_returnflag\", \"l_linestatus\"])\n",
        "    )\n",
        "\n",
        "q1_result = benchmark(\"Q1\", q1)\n"
      ],
      "metadata": {
        "colab": {
          "base_uri": "https://localhost:8080/"
        },
        "id": "nB5DPDX-RjrR",
        "outputId": "16a76b2d-7288-479a-b141-b29c8b2463eb"
      },
      "execution_count": 6,
      "outputs": [
        {
          "output_type": "stream",
          "name": "stdout",
          "text": [
            "Q1 executada em 48.29s\n"
          ]
        }
      ]
    },
    {
      "cell_type": "markdown",
      "source": [
        "#### Q3 – Shipping Priority\n",
        "\n",
        "SQL Original: join entre customer, orders, lineitem."
      ],
      "metadata": {
        "id": "Ed9g8vzbRzhR"
      }
    },
    {
      "cell_type": "code",
      "source": [
        "def q3():\n",
        "    df = (\n",
        "        customer[customer.c_mktsegment == \"BUILDING\"]\n",
        "        .merge(orders, left_on=\"c_custkey\", right_on=\"o_custkey\")\n",
        "        .merge(lineitem, left_on=\"o_orderkey\", right_on=\"l_orderkey\")\n",
        "    )\n",
        "    return (\n",
        "        df[(df.o_orderdate < pd.Timestamp(\"1995-03-15\").date()) & (df.l_shipdate > pd.Timestamp(\"1995-03-15\").date())]\n",
        "        .assign(revenue=lambda x: x.l_extendedprice * (1 - x.l_discount))\n",
        "        .groupby([\"l_orderkey\", \"o_orderdate\", \"o_shippriority\"], as_index=False)\n",
        "        .agg(revenue=(\"revenue\", \"sum\"))\n",
        "        .sort_values([\"revenue\", \"o_orderdate\"], ascending=[False, True])\n",
        "        .head(10)\n",
        "    )\n",
        "\n",
        "q3_result = benchmark(\"Q3\", q3)\n"
      ],
      "metadata": {
        "colab": {
          "base_uri": "https://localhost:8080/"
        },
        "id": "a4KWu4wmR8x4",
        "outputId": "b31b48e9-4631-4273-8dd7-212968713904"
      },
      "execution_count": 7,
      "outputs": [
        {
          "output_type": "stream",
          "name": "stdout",
          "text": [
            "Q3 executada em 4.54s\n"
          ]
        }
      ]
    },
    {
      "cell_type": "markdown",
      "source": [
        "#### Q5 – Local Supplier Volume"
      ],
      "metadata": {
        "id": "Qn28L-oFSyVb"
      }
    },
    {
      "cell_type": "code",
      "source": [
        "def q5():\n",
        "    df = (\n",
        "        region[region.r_name == \"ASIA\"]\n",
        "        .merge(nation, left_on=\"r_regionkey\", right_on=\"n_regionkey\")\n",
        "        .merge(customer, left_on=\"n_nationkey\", right_on=\"c_nationkey\")\n",
        "        .merge(orders, left_on=\"c_custkey\", right_on=\"o_custkey\")\n",
        "        .merge(lineitem, left_on=\"o_orderkey\", right_on=\"l_orderkey\")\n",
        "        .merge(supplier, left_on=\"l_suppkey\", right_on=\"s_suppkey\")\n",
        "        .merge(nation, left_on=\"s_nationkey\", right_on=\"n_nationkey\", suffixes=(\"\", \"_supp\"))\n",
        "    )\n",
        "    return (\n",
        "        df[(df.o_orderdate >=  pd.Timestamp(\"1994-01-01\").date()) & (df.o_orderdate < pd.Timestamp(\"1995-01-01\").date())]\n",
        "        .assign(revenue=lambda x: x.l_extendedprice * (1 - x.l_discount))\n",
        "        .groupby(\"n_name_supp\", as_index=False)\n",
        "        .agg(revenue=(\"revenue\", \"sum\"))\n",
        "        .sort_values(\"revenue\", ascending=False)\n",
        "    )\n",
        "\n",
        "q5_result = benchmark(\"Q5\", q5)\n"
      ],
      "metadata": {
        "colab": {
          "base_uri": "https://localhost:8080/"
        },
        "id": "3xpy6DNKS1SX",
        "outputId": "a109d998-a15a-407d-df38-7d5779fd21bf"
      },
      "execution_count": 8,
      "outputs": [
        {
          "output_type": "stream",
          "name": "stdout",
          "text": [
            "Q5 executada em 12.87s\n"
          ]
        }
      ]
    },
    {
      "cell_type": "markdown",
      "source": [
        "#### Q6 – Forecasting Revenue Change"
      ],
      "metadata": {
        "id": "FyqK1W_sTiC8"
      }
    },
    {
      "cell_type": "code",
      "source": [
        "def q6():\n",
        "    return (\n",
        "        lineitem[\n",
        "            (lineitem.l_shipdate >= pd.Timestamp(\"1994-01-01\").date()) &\n",
        "            (lineitem.l_shipdate < pd.Timestamp(\"1995-01-01\").date()) &\n",
        "            (lineitem.l_discount.between(0.05, 0.07)) &\n",
        "            (lineitem.l_quantity < 24)\n",
        "        ]\n",
        "        .assign(revenue=lambda x: x.l_extendedprice * x.l_discount)\n",
        "        .agg(revenue=(\"revenue\", \"sum\"))\n",
        "    )\n",
        "\n",
        "q6_result = benchmark(\"Q6\", q6)\n"
      ],
      "metadata": {
        "colab": {
          "base_uri": "https://localhost:8080/"
        },
        "id": "nkO3auxbTmp3",
        "outputId": "4d254e3b-b3dd-4a42-84f6-a64c1932861d"
      },
      "execution_count": 9,
      "outputs": [
        {
          "output_type": "stream",
          "name": "stdout",
          "text": [
            "Q6 executada em 13.44s\n"
          ]
        }
      ]
    },
    {
      "cell_type": "markdown",
      "source": [
        "#### Q12 – Shipping Modes and Order Priority"
      ],
      "metadata": {
        "id": "a9_-HvNLTvG3"
      }
    },
    {
      "cell_type": "code",
      "source": [
        "def q12():\n",
        "    df = (\n",
        "        orders\n",
        "        .merge(lineitem, left_on=\"o_orderkey\", right_on=\"l_orderkey\")\n",
        "    )\n",
        "    filtered = df[\n",
        "        (df.l_shipmode.isin([\"MAIL\", \"SHIP\"])) &\n",
        "        (df.l_commitdate < df.l_receiptdate) &\n",
        "        (df.l_shipdate < df.l_commitdate) &\n",
        "        (df.l_receiptdate >= pd.Timestamp(\"1995-01-01\").date()) &\n",
        "        (df.l_receiptdate < pd.Timestamp(\"1995-01-01\").date())\n",
        "    ]\n",
        "    high = ((filtered.o_orderpriority == \"1-URGENT\") | (filtered.o_orderpriority == \"2-HIGH\")).astype(int)\n",
        "    low = (~((filtered.o_orderpriority == \"1-URGENT\") | (filtered.o_orderpriority == \"2-HIGH\"))).astype(int)\n",
        "\n",
        "    return (\n",
        "        filtered\n",
        "        .groupby(\"l_shipmode\", as_index=False)\n",
        "        .agg(high_line_count=(\"o_orderpriority\", lambda _: high.sum()),\n",
        "             low_line_count=(\"o_orderpriority\", lambda _: low.sum()))\n",
        "        .sort_values(\"l_shipmode\")\n",
        "    )\n",
        "\n",
        "q12_result = benchmark(\"Q12\", q12)\n"
      ],
      "metadata": {
        "colab": {
          "base_uri": "https://localhost:8080/"
        },
        "id": "yuX17d7sTxHD",
        "outputId": "93f8531c-5d68-4cb4-df7f-4c87fa3bd2dc"
      },
      "execution_count": 10,
      "outputs": [
        {
          "output_type": "stream",
          "name": "stdout",
          "text": [
            "Q12 executada em 5.65s\n"
          ]
        }
      ]
    },
    {
      "cell_type": "markdown",
      "source": [
        "### DuckDB"
      ],
      "metadata": {
        "id": "DqwXQemIO0im"
      }
    },
    {
      "cell_type": "code",
      "source": [
        "import duckdb\n",
        "import time\n",
        "con = duckdb.connect(database=':memory:')\n",
        "\n",
        "\n",
        "def benchmark(query_name, sql):\n",
        "    start = time.time()\n",
        "    result = con.execute(sql).df()\n",
        "    elapsed = time.time() - start\n",
        "    time_data.append({'tool': 'duckdb', 'query': query_name, 'time': elapsed})\n",
        "    print(f\"{query_name} executada em {elapsed:.2f}s\")\n",
        "    return result"
      ],
      "metadata": {
        "id": "etUyCBoiUYRt"
      },
      "execution_count": 11,
      "outputs": []
    },
    {
      "cell_type": "markdown",
      "source": [
        "#### Q1 – Pricing Summary Report"
      ],
      "metadata": {
        "id": "KkZl685LUejk"
      }
    },
    {
      "cell_type": "code",
      "source": [
        "q1_sql = \"\"\"\n",
        "SELECT\n",
        "    l_returnflag,\n",
        "    l_linestatus,\n",
        "    SUM(l_quantity) AS sum_qty,\n",
        "    SUM(l_extendedprice) AS sum_base_price,\n",
        "    SUM(l_extendedprice * (1 - l_discount)) AS sum_disc_price,\n",
        "    SUM(l_extendedprice * (1 - l_discount) * (1 + l_tax)) AS sum_charge,\n",
        "    AVG(l_quantity) AS avg_qty,\n",
        "    AVG(l_extendedprice) AS avg_price,\n",
        "    AVG(l_discount) AS avg_disc,\n",
        "    COUNT(*) AS count_order\n",
        "FROM lineitem.parquet\n",
        "WHERE l_shipdate <= DATE '1998-12-01' - INTERVAL '90' DAY\n",
        "GROUP BY l_returnflag, l_linestatus\n",
        "ORDER BY l_returnflag, l_linestatus;\n",
        "\"\"\"\n",
        "\n",
        "q1_result = benchmark(\"Q1\", q1_sql)\n"
      ],
      "metadata": {
        "colab": {
          "base_uri": "https://localhost:8080/"
        },
        "id": "JN2hmWARO7jq",
        "outputId": "97ced865-d837-4330-ba70-be91b4c91399"
      },
      "execution_count": 12,
      "outputs": [
        {
          "output_type": "stream",
          "name": "stdout",
          "text": [
            "Q1 executada em 1.03s\n"
          ]
        }
      ]
    },
    {
      "cell_type": "markdown",
      "source": [
        "#### Q3 – Shipping Priority"
      ],
      "metadata": {
        "id": "z4YNvFfSUg5G"
      }
    },
    {
      "cell_type": "code",
      "source": [
        "q3_sql = \"\"\"\n",
        "SELECT\n",
        "    l_orderkey,\n",
        "    SUM(l_extendedprice * (1 - l_discount)) AS revenue,\n",
        "    o_orderdate,\n",
        "    o_shippriority\n",
        "FROM customer.parquet, orders.parquet, lineitem.parquet\n",
        "WHERE c_mktsegment = 'BUILDING'\n",
        "  AND c_custkey = o_custkey\n",
        "  AND l_orderkey = o_orderkey\n",
        "  AND o_orderdate < DATE '1995-03-15'\n",
        "  AND l_shipdate > DATE '1995-03-15'\n",
        "GROUP BY l_orderkey, o_orderdate, o_shippriority\n",
        "ORDER BY revenue DESC, o_orderdate\n",
        "LIMIT 10;\n",
        "\"\"\"\n",
        "\n",
        "q3_result = benchmark(\"Q3\", q3_sql)\n"
      ],
      "metadata": {
        "colab": {
          "base_uri": "https://localhost:8080/"
        },
        "id": "fZDuRVHiUiOM",
        "outputId": "c247492d-5e3e-4e2a-f49b-ae458881bc74"
      },
      "execution_count": 13,
      "outputs": [
        {
          "output_type": "stream",
          "name": "stdout",
          "text": [
            "Q3 executada em 0.49s\n"
          ]
        }
      ]
    },
    {
      "cell_type": "markdown",
      "source": [
        "#### Q5 – Local Supplier Volume"
      ],
      "metadata": {
        "id": "jBNNe9HJUnny"
      }
    },
    {
      "cell_type": "code",
      "source": [
        "q5_sql = \"\"\"\n",
        "SELECT\n",
        "    n_name,\n",
        "    SUM(l_extendedprice * (1 - l_discount)) AS revenue\n",
        "FROM customer.parquet, orders.parquet, lineitem.parquet, supplier.parquet, nation.parquet, region.parquet\n",
        "WHERE c_custkey = o_custkey\n",
        "  AND l_orderkey = o_orderkey\n",
        "  AND l_suppkey = s_suppkey\n",
        "  AND c_nationkey = s_nationkey\n",
        "  AND s_nationkey = n_nationkey\n",
        "  AND n_regionkey = r_regionkey\n",
        "  AND r_name = 'ASIA'\n",
        "  AND o_orderdate >= DATE '1994-01-01'\n",
        "  AND o_orderdate < DATE '1995-01-01'\n",
        "GROUP BY n_name\n",
        "ORDER BY revenue DESC;\n",
        "\"\"\"\n",
        "\n",
        "q5_result = benchmark(\"Q5\", q5_sql)\n"
      ],
      "metadata": {
        "colab": {
          "base_uri": "https://localhost:8080/"
        },
        "id": "f7BRtq2WUpAm",
        "outputId": "9ed9c485-7607-4f7b-c4ad-64c027346543"
      },
      "execution_count": 14,
      "outputs": [
        {
          "output_type": "stream",
          "name": "stdout",
          "text": [
            "Q5 executada em 0.42s\n"
          ]
        }
      ]
    },
    {
      "cell_type": "markdown",
      "source": [
        "#### Q6 – Forecasting Revenue Change"
      ],
      "metadata": {
        "id": "IB-FGXcdUv3y"
      }
    },
    {
      "cell_type": "code",
      "source": [
        "q6_sql = \"\"\"\n",
        "SELECT\n",
        "    SUM(l_extendedprice * l_discount) AS revenue\n",
        "FROM lineitem.parquet\n",
        "WHERE l_shipdate >= DATE '1994-01-01'\n",
        "  AND l_shipdate < DATE '1995-01-01'\n",
        "  AND l_discount BETWEEN 0.05 AND 0.07\n",
        "  AND l_quantity < 24;\n",
        "\"\"\"\n",
        "\n",
        "q6_result = benchmark(\"Q6\", q6_sql)\n"
      ],
      "metadata": {
        "colab": {
          "base_uri": "https://localhost:8080/"
        },
        "id": "cDm4_xa9Uve5",
        "outputId": "38de1d6c-9d48-42f7-9650-250f1167ae66"
      },
      "execution_count": 15,
      "outputs": [
        {
          "output_type": "stream",
          "name": "stdout",
          "text": [
            "Q6 executada em 0.17s\n"
          ]
        }
      ]
    },
    {
      "cell_type": "markdown",
      "source": [
        "#### Q12 – Shipping Modes and Order Priority"
      ],
      "metadata": {
        "id": "t9WM8_ZYU1N5"
      }
    },
    {
      "cell_type": "code",
      "source": [
        "q12_sql = \"\"\"\n",
        "SELECT\n",
        "    l_shipmode,\n",
        "    SUM(CASE WHEN o_orderpriority = '1-URGENT' OR o_orderpriority = '2-HIGH'\n",
        "             THEN 1 ELSE 0 END) AS high_line_count,\n",
        "    SUM(CASE WHEN o_orderpriority <> '1-URGENT' AND o_orderpriority <> '2-HIGH'\n",
        "             THEN 1 ELSE 0 END) AS low_line_count\n",
        "FROM orders.parquet, lineitem.parquet\n",
        "WHERE o_orderkey = l_orderkey\n",
        "  AND l_shipmode IN ('MAIL', 'SHIP')\n",
        "  AND l_commitdate < l_receiptdate\n",
        "  AND l_shipdate < l_commitdate\n",
        "  AND l_receiptdate >= DATE '1994-01-01'\n",
        "  AND l_receiptdate < DATE '1995-01-01'\n",
        "GROUP BY l_shipmode\n",
        "ORDER BY l_shipmode;\n",
        "\"\"\"\n",
        "\n",
        "q12_result = benchmark(\"Q12\", q12_sql)\n"
      ],
      "metadata": {
        "colab": {
          "base_uri": "https://localhost:8080/"
        },
        "id": "h0G7Ouo_U13y",
        "outputId": "c53edff9-d31f-433d-fbd3-10cfd3e48067"
      },
      "execution_count": 16,
      "outputs": [
        {
          "output_type": "stream",
          "name": "stdout",
          "text": [
            "Q12 executada em 0.23s\n"
          ]
        }
      ]
    },
    {
      "cell_type": "markdown",
      "source": [
        "### PySpark"
      ],
      "metadata": {
        "id": "mr3PDsqVO1oG"
      }
    },
    {
      "cell_type": "code",
      "source": [
        "from pyspark.sql import SparkSession\n",
        "spark = SparkSession.builder.getOrCreate()\n",
        "spark.read.parquet('lineitem.parquet').createOrReplaceTempView(\"lineitem\")\n",
        "spark.read.parquet('orders.parquet').createOrReplaceTempView(\"orders\")\n",
        "spark.read.parquet('nation.parquet').createOrReplaceTempView(\"nation\")\n",
        "spark.read.parquet('customer.parquet').createOrReplaceTempView(\"customer\")\n",
        "spark.read.parquet('partsupp.parquet').createOrReplaceTempView(\"partsupp\")\n",
        "spark.read.parquet('supplier.parquet').createOrReplaceTempView(\"supplier\")\n",
        "spark.read.parquet('region.parquet').createOrReplaceTempView(\"region\")\n",
        "spark.read.parquet('part.parquet').createOrReplaceTempView(\"part\")"
      ],
      "metadata": {
        "id": "i2kTzWp7VJf0"
      },
      "execution_count": 17,
      "outputs": []
    },
    {
      "cell_type": "code",
      "source": [
        "def benchmark(query_name, sql):\n",
        "    start = time.time()\n",
        "    result = spark.sql(sql).count()\n",
        "    elapsed = time.time() - start\n",
        "    time_data.append({'tool': 'spark', 'query': query_name, 'time': elapsed})\n",
        "    print(f\"{query_name} executada em {elapsed:.2f}s\")\n",
        "    return result"
      ],
      "metadata": {
        "id": "zocLRzJvVwh1"
      },
      "execution_count": 18,
      "outputs": []
    },
    {
      "cell_type": "markdown",
      "source": [
        "#### Q1 – Pricing Summary Report"
      ],
      "metadata": {
        "id": "XgmxIHsXVGWi"
      }
    },
    {
      "cell_type": "code",
      "source": [
        "q1_sql = '''\n",
        "SELECT\n",
        "    l_returnflag,\n",
        "    l_linestatus,\n",
        "    SUM(l_quantity) AS sum_qty,\n",
        "    SUM(l_extendedprice) AS sum_base_price,\n",
        "    SUM(l_extendedprice * (1 - l_discount)) AS sum_disc_price,\n",
        "    SUM(l_extendedprice * (1 - l_discount) * (1 + l_tax)) AS sum_charge,\n",
        "    AVG(l_quantity) AS avg_qty,\n",
        "    AVG(l_extendedprice) AS avg_price,\n",
        "    AVG(l_discount) AS avg_disc,\n",
        "    COUNT(*) AS count_order\n",
        "FROM\n",
        "    lineitem\n",
        "WHERE\n",
        "    l_shipdate <= CAST('1998-09-02' AS date)\n",
        "GROUP BY\n",
        "    l_returnflag,\n",
        "    l_linestatus\n",
        "ORDER BY\n",
        "    l_returnflag,\n",
        "    l_linestatus;\n",
        "'''\n",
        "q1_result = benchmark(\"Q1\", q1_sql)\n"
      ],
      "metadata": {
        "colab": {
          "base_uri": "https://localhost:8080/"
        },
        "id": "1ubR852vO78N",
        "outputId": "6c9c20da-c682-40dd-ff74-386fc1361b96"
      },
      "execution_count": 19,
      "outputs": [
        {
          "output_type": "stream",
          "name": "stdout",
          "text": [
            "Q1 executada em 8.48s\n"
          ]
        }
      ]
    },
    {
      "cell_type": "markdown",
      "source": [
        "#### Q3 – Shipping Priority"
      ],
      "metadata": {
        "id": "uUvE46tRVUA0"
      }
    },
    {
      "cell_type": "code",
      "source": [
        "q3_sql = '''\n",
        "SELECT\n",
        "    l_orderkey,\n",
        "    SUM(l_extendedprice * (1 - l_discount)) AS revenue,\n",
        "    o_orderdate,\n",
        "    o_shippriority\n",
        "FROM\n",
        "    customer,\n",
        "    orders,\n",
        "    lineitem\n",
        "WHERE\n",
        "    c_mktsegment = 'BUILDING'\n",
        "    AND c_custkey = o_custkey\n",
        "    AND l_orderkey = o_orderkey\n",
        "    AND o_orderdate < CAST('1995-03-15' AS date)\n",
        "    AND l_shipdate > CAST('1995-03-15' AS date)\n",
        "GROUP BY\n",
        "    l_orderkey,\n",
        "    o_orderdate,\n",
        "    o_shippriority\n",
        "ORDER BY\n",
        "    revenue DESC,\n",
        "    o_orderdate\n",
        "'''\n",
        "q3_result = benchmark(\"Q3\", q3_sql)\n"
      ],
      "metadata": {
        "colab": {
          "base_uri": "https://localhost:8080/"
        },
        "id": "uhT0w3ZTVVu5",
        "outputId": "a601784b-d05e-43a2-e4c0-e732a48d316c"
      },
      "execution_count": 20,
      "outputs": [
        {
          "output_type": "stream",
          "name": "stdout",
          "text": [
            "Q3 executada em 8.34s\n"
          ]
        }
      ]
    },
    {
      "cell_type": "markdown",
      "source": [
        "#### Q5 – Local Supplier Volume"
      ],
      "metadata": {
        "id": "TIumaRDuVWzN"
      }
    },
    {
      "cell_type": "code",
      "source": [
        "q5_sql = '''\n",
        "SELECT\n",
        "    n_name,\n",
        "    SUM(l_extendedprice * (1 - l_discount)) AS revenue\n",
        "FROM\n",
        "    customer,\n",
        "    orders,\n",
        "    lineitem,\n",
        "    supplier,\n",
        "    nation,\n",
        "    region\n",
        "WHERE\n",
        "    c_custkey = o_custkey\n",
        "    AND l_orderkey = o_orderkey\n",
        "    AND l_suppkey = s_suppkey\n",
        "    AND c_nationkey = s_nationkey\n",
        "    AND s_nationkey = n_nationkey\n",
        "    AND n_regionkey = r_regionkey\n",
        "    AND r_name = 'ASIA'\n",
        "    AND o_orderdate >= CAST('1994-01-01' AS date)\n",
        "    AND o_orderdate < CAST('1995-01-01' AS date)\n",
        "GROUP BY\n",
        "    n_name\n",
        "ORDER BY\n",
        "    revenue DESC;\n",
        "'''\n",
        "q5_result = benchmark(\"Q5\", q5_sql)\n"
      ],
      "metadata": {
        "colab": {
          "base_uri": "https://localhost:8080/"
        },
        "id": "-7NEF4BtVXap",
        "outputId": "5e326ab5-148e-45dd-dab0-3bcdbd5608e5"
      },
      "execution_count": 21,
      "outputs": [
        {
          "output_type": "stream",
          "name": "stdout",
          "text": [
            "Q5 executada em 9.16s\n"
          ]
        }
      ]
    },
    {
      "cell_type": "markdown",
      "source": [
        "#### Q6 – Forecasting Revenue Change"
      ],
      "metadata": {
        "id": "PkFY5MDiVXnl"
      }
    },
    {
      "cell_type": "code",
      "source": [
        "q6_sql = '''\n",
        "SELECT\n",
        "    SUM(l_extendedprice * l_discount) AS revenue\n",
        "FROM\n",
        "    lineitem\n",
        "WHERE\n",
        "    l_shipdate >= CAST('1994-01-01' AS date)\n",
        "    AND l_shipdate < CAST('1995-01-01' AS date)\n",
        "    AND l_discount BETWEEN 0.05\n",
        "    AND 0.07\n",
        "    AND l_quantity < 24;\n",
        "'''\n",
        "q6_result = benchmark(\"Q6\", q6_sql)\n"
      ],
      "metadata": {
        "colab": {
          "base_uri": "https://localhost:8080/"
        },
        "id": "SbvLgA_HVZMH",
        "outputId": "cd204b21-c591-4430-ed86-8c2417cb9e8f"
      },
      "execution_count": 22,
      "outputs": [
        {
          "output_type": "stream",
          "name": "stdout",
          "text": [
            "Q6 executada em 1.58s\n"
          ]
        }
      ]
    },
    {
      "cell_type": "markdown",
      "source": [
        "#### Q12 – Shipping Modes and Order Priority"
      ],
      "metadata": {
        "id": "OwJVW_N3VZdE"
      }
    },
    {
      "cell_type": "code",
      "source": [
        "q12_sql = '''\n",
        "SELECT\n",
        "    l_shipmode,\n",
        "    SUM(\n",
        "        CASE\n",
        "            WHEN o_orderpriority = '1-URGENT'\n",
        "            OR o_orderpriority = '2-HIGH' THEN 1\n",
        "            ELSE 0\n",
        "        END\n",
        "    ) AS high_line_count,\n",
        "    SUM(\n",
        "        CASE\n",
        "            WHEN o_orderpriority <> '1-URGENT'\n",
        "            AND o_orderpriority <> '2-HIGH' THEN 1\n",
        "            ELSE 0\n",
        "        END\n",
        "    ) AS low_line_count\n",
        "FROM\n",
        "    orders,\n",
        "    lineitem\n",
        "WHERE\n",
        "    o_orderkey = l_orderkey\n",
        "    AND l_shipmode IN ('MAIL', 'SHIP')\n",
        "    AND l_commitdate < l_receiptdate\n",
        "    AND l_shipdate < l_commitdate\n",
        "    AND l_receiptdate >= CAST('1994-01-01' AS date)\n",
        "    AND l_receiptdate < CAST('1995-01-01' AS date)\n",
        "GROUP BY\n",
        "    l_shipmode\n",
        "ORDER BY\n",
        "    l_shipmode;\n",
        "'''\n",
        "q12_result = benchmark(\"Q12\", q12_sql)\n"
      ],
      "metadata": {
        "colab": {
          "base_uri": "https://localhost:8080/"
        },
        "id": "LTHg_FMwVap8",
        "outputId": "9c9bae7b-85b5-4f01-ea1c-599523685ad4"
      },
      "execution_count": 23,
      "outputs": [
        {
          "output_type": "stream",
          "name": "stdout",
          "text": [
            "Q12 executada em 6.26s\n"
          ]
        }
      ]
    },
    {
      "cell_type": "markdown",
      "source": [
        "### Polars"
      ],
      "metadata": {
        "id": "tcwU2buAO29o"
      }
    },
    {
      "cell_type": "code",
      "execution_count": 24,
      "metadata": {
        "id": "5fUbgzRkNmw_"
      },
      "outputs": [],
      "source": [
        "import polars as pl\n",
        "import time\n",
        "\n",
        "# 🔧 Carregar tabelas (Parquet)\n",
        "lineitem = pl.read_parquet(\"/content/lineitem.parquet\")\n",
        "orders   = pl.read_parquet(\"/content/orders.parquet\")\n",
        "customer = pl.read_parquet(\"/content/customer.parquet\")\n",
        "nation   = pl.read_parquet(\"/content/nation.parquet\")\n",
        "region   = pl.read_parquet(\"/content/region.parquet\")\n",
        "supplier = pl.read_parquet(\"/content/supplier.parquet\")\n",
        "\n",
        "def benchmark(query_name, func):\n",
        "    start = time.time()\n",
        "    result = func()\n",
        "    elapsed = time.time() - start\n",
        "    time_data.append({'tool': 'polars', 'query': query_name, 'time': elapsed})\n",
        "    print(f\"{query_name} executada em {elapsed:.2f}s\")\n",
        "    return result\n"
      ]
    },
    {
      "cell_type": "markdown",
      "source": [
        "#### Q1 – Pricing Summary Report"
      ],
      "metadata": {
        "id": "JQe4hKpJXraz"
      }
    },
    {
      "cell_type": "code",
      "source": [
        "from datetime import date\n",
        "\n",
        "def q1():\n",
        "    var1 = date(1998, 9, 2)\n",
        "\n",
        "    return (\n",
        "        lineitem.filter(pl.col(\"l_shipdate\") <= var1)\n",
        "        .group_by(\"l_returnflag\", \"l_linestatus\")\n",
        "        .agg(\n",
        "            pl.sum(\"l_quantity\").alias(\"sum_qty\"),\n",
        "            pl.sum(\"l_extendedprice\").alias(\"sum_base_price\"),\n",
        "            (pl.col(\"l_extendedprice\") * (1.0 - pl.col(\"l_discount\")))\n",
        "            .sum()\n",
        "            .alias(\"sum_disc_price\"),\n",
        "            (\n",
        "                pl.col(\"l_extendedprice\")\n",
        "                * (1.0 - pl.col(\"l_discount\"))\n",
        "                * (1.0 + pl.col(\"l_tax\"))\n",
        "            )\n",
        "            .sum()\n",
        "            .alias(\"sum_charge\"),\n",
        "            pl.mean(\"l_quantity\").alias(\"avg_qty\"),\n",
        "            pl.mean(\"l_extendedprice\").alias(\"avg_price\"),\n",
        "            pl.mean(\"l_discount\").alias(\"avg_disc\"),\n",
        "            pl.len().alias(\"count_order\"),\n",
        "        )\n",
        "        .sort(\"l_returnflag\", \"l_linestatus\")\n",
        "    )\n",
        "\n",
        "q1_result = benchmark(\"Q1\", q1)\n"
      ],
      "metadata": {
        "colab": {
          "base_uri": "https://localhost:8080/"
        },
        "id": "Cwm8rVskWxmc",
        "outputId": "d5a00ac5-2a67-4818-9348-cbdd1d913177"
      },
      "execution_count": 25,
      "outputs": [
        {
          "output_type": "stream",
          "name": "stdout",
          "text": [
            "Q1 executada em 1.86s\n"
          ]
        }
      ]
    },
    {
      "cell_type": "markdown",
      "source": [
        "#### Q3 – Shipping Priority"
      ],
      "metadata": {
        "id": "mU2_u93nXpPp"
      }
    },
    {
      "cell_type": "code",
      "source": [
        "def q3():\n",
        "    var1 = \"BUILDING\"\n",
        "    var2 = date(1995, 3, 15)\n",
        "\n",
        "    return (\n",
        "        customer.filter(pl.col(\"c_mktsegment\") == var1)\n",
        "        .join(orders, left_on=\"c_custkey\", right_on=\"o_custkey\")\n",
        "        .join(lineitem, left_on=\"o_orderkey\", right_on=\"l_orderkey\")\n",
        "        .filter(pl.col(\"o_orderdate\") < var2)\n",
        "        .filter(pl.col(\"l_shipdate\") > var2)\n",
        "        .with_columns(\n",
        "            (pl.col(\"l_extendedprice\") * (1 - pl.col(\"l_discount\"))).alias(\"revenue\")\n",
        "        )\n",
        "        .group_by(\"o_orderkey\", \"o_orderdate\", \"o_shippriority\")\n",
        "        .agg(pl.sum(\"revenue\"))\n",
        "        .select(\n",
        "            pl.col(\"o_orderkey\").alias(\"l_orderkey\"),\n",
        "            \"revenue\",\n",
        "            \"o_orderdate\",\n",
        "            \"o_shippriority\",\n",
        "        )\n",
        "        .sort(by=[\"revenue\", \"o_orderdate\"], descending=[True, False])\n",
        "        .head(10)\n",
        "    )\n",
        "\n",
        "q3_result = benchmark(\"Q3\", q3)\n"
      ],
      "metadata": {
        "colab": {
          "base_uri": "https://localhost:8080/"
        },
        "id": "gTok_tmfW34K",
        "outputId": "c1c1dc7a-2101-460f-e596-f478aa7966d7"
      },
      "execution_count": 26,
      "outputs": [
        {
          "output_type": "stream",
          "name": "stdout",
          "text": [
            "Q3 executada em 1.54s\n"
          ]
        }
      ]
    },
    {
      "cell_type": "markdown",
      "source": [
        "#### Q5 – Local Supplier Volume"
      ],
      "metadata": {
        "id": "Y8ULAXMMXnp5"
      }
    },
    {
      "cell_type": "code",
      "source": [
        "def q5():\n",
        "    var1 = \"ASIA\"\n",
        "    var2 = date(1994, 1, 1)\n",
        "    var3 = date(1995, 1, 1)\n",
        "\n",
        "    return (\n",
        "        region.join(nation, left_on=\"r_regionkey\", right_on=\"n_regionkey\")\n",
        "        .join(customer, left_on=\"n_nationkey\", right_on=\"c_nationkey\")\n",
        "        .join(orders, left_on=\"c_custkey\", right_on=\"o_custkey\")\n",
        "        .join(lineitem, left_on=\"o_orderkey\", right_on=\"l_orderkey\")\n",
        "        .join(\n",
        "            supplier,\n",
        "            left_on=[\"l_suppkey\", \"n_nationkey\"],\n",
        "            right_on=[\"s_suppkey\", \"s_nationkey\"],\n",
        "        )\n",
        "        .filter(pl.col(\"r_name\") == var1)\n",
        "        .filter(pl.col(\"o_orderdate\").is_between(var2, var3, closed=\"left\"))\n",
        "        .with_columns(\n",
        "            (pl.col(\"l_extendedprice\") * (1 - pl.col(\"l_discount\"))).alias(\"revenue\")\n",
        "        )\n",
        "        .group_by(\"n_name\")\n",
        "        .agg(pl.sum(\"revenue\"))\n",
        "        .sort(by=\"revenue\", descending=True)\n",
        "    )\n",
        "\n",
        "q5_result = benchmark(\"Q5\", q5)\n"
      ],
      "metadata": {
        "colab": {
          "base_uri": "https://localhost:8080/"
        },
        "id": "hzg1bg6HXTFp",
        "outputId": "0e759584-11be-4f9f-ec16-af8db0d0cd4a"
      },
      "execution_count": 27,
      "outputs": [
        {
          "output_type": "stream",
          "name": "stdout",
          "text": [
            "Q5 executada em 3.86s\n"
          ]
        }
      ]
    },
    {
      "cell_type": "markdown",
      "source": [
        "#### Q6 – Forecasting Revenue Change"
      ],
      "metadata": {
        "id": "nZce9oYoXlDE"
      }
    },
    {
      "cell_type": "code",
      "source": [
        "def q6():\n",
        "    var1 = date(1994, 1, 1)\n",
        "    var2 = date(1995, 1, 1)\n",
        "    var3 = 0.05\n",
        "    var4 = 0.07\n",
        "    var5 = 24\n",
        "\n",
        "    return (\n",
        "        lineitem.filter(pl.col(\"l_shipdate\").is_between(var1, var2, closed=\"left\"))\n",
        "        .filter(pl.col(\"l_discount\").is_between(var3, var4))\n",
        "        .filter(pl.col(\"l_quantity\") < var5)\n",
        "        .with_columns(\n",
        "            (pl.col(\"l_extendedprice\") * pl.col(\"l_discount\")).alias(\"revenue\")\n",
        "        )\n",
        "        .select(pl.sum(\"revenue\"))\n",
        "    )\n",
        "\n",
        "q6_result = benchmark(\"Q6\", q6)\n"
      ],
      "metadata": {
        "colab": {
          "base_uri": "https://localhost:8080/"
        },
        "id": "wFU0DgsuXYTA",
        "outputId": "2694b321-cb4f-4dce-abdb-2e5ac91d8a9d"
      },
      "execution_count": 28,
      "outputs": [
        {
          "output_type": "stream",
          "name": "stdout",
          "text": [
            "Q6 executada em 0.16s\n"
          ]
        }
      ]
    },
    {
      "cell_type": "markdown",
      "source": [
        "#### Q12 – Shipping Modes and Order Priority"
      ],
      "metadata": {
        "id": "P0sNdljzXjoT"
      }
    },
    {
      "cell_type": "code",
      "source": [
        "def q12():\n",
        "    var1 = \"MAIL\"\n",
        "    var2 = \"SHIP\"\n",
        "    var3 = date(1994, 1, 1)\n",
        "    var4 = date(1995, 1, 1)\n",
        "\n",
        "    return (\n",
        "        orders.join(lineitem, left_on=\"o_orderkey\", right_on=\"l_orderkey\")\n",
        "        .filter(pl.col(\"l_shipmode\").is_in([var1, var2]))\n",
        "        .filter(pl.col(\"l_commitdate\") < pl.col(\"l_receiptdate\"))\n",
        "        .filter(pl.col(\"l_shipdate\") < pl.col(\"l_commitdate\"))\n",
        "        .filter(pl.col(\"l_receiptdate\").is_between(var3, var4, closed=\"left\"))\n",
        "        .with_columns(\n",
        "            line_count=pl.col(\"o_orderpriority\").is_in([\"1-URGENT\", \"2-HIGH\"])\n",
        "        )\n",
        "        .group_by(\"l_shipmode\")\n",
        "        .agg(\n",
        "            high_line_count=pl.col.line_count.sum(),\n",
        "            low_line_count=pl.col.line_count.not_().sum(),\n",
        "        )\n",
        "        .sort(\"l_shipmode\")\n",
        "    )\n",
        "\n",
        "q12_result = benchmark(\"Q12\", q12)\n"
      ],
      "metadata": {
        "colab": {
          "base_uri": "https://localhost:8080/"
        },
        "id": "YrE-RpOrXY9i",
        "outputId": "196a0f11-8edb-4679-c62b-4c36183d271b"
      },
      "execution_count": 29,
      "outputs": [
        {
          "output_type": "stream",
          "name": "stdout",
          "text": [
            "Q12 executada em 2.44s\n"
          ]
        }
      ]
    },
    {
      "cell_type": "markdown",
      "source": [
        "## Resultados"
      ],
      "metadata": {
        "id": "Wrq4MuBTMy-L"
      }
    },
    {
      "cell_type": "code",
      "source": [
        "import matplotlib.pyplot as plt\n",
        "import pandas as pd\n",
        "\n",
        "df = pd.DataFrame(time_data)\n",
        "\n",
        "pivot_df = df.pivot(index=\"query\", columns=\"tool\", values=\"time\")\n",
        "\n",
        "pivot_df.plot(kind=\"bar\", figsize=(8, 5))\n",
        "\n",
        "plt.ylabel(\"Execution Time (s)\")\n",
        "plt.title(\"Benchmark Tempo de execução por Ferramenta e Query\")\n",
        "plt.xticks(rotation=0)\n",
        "plt.legend(title=\"Tool\")\n",
        "plt.tight_layout()\n",
        "plt.show()\n"
      ],
      "metadata": {
        "colab": {
          "base_uri": "https://localhost:8080/",
          "height": 507
        },
        "id": "K_gs-YBWM1MO",
        "outputId": "0db9e15a-27d8-4f38-8129-7cc1573dbd5c"
      },
      "execution_count": 32,
      "outputs": [
        {
          "output_type": "display_data",
          "data": {
            "text/plain": [
              "<Figure size 800x500 with 1 Axes>"
            ],
            "image/png": "[encoded data removed]"
          },
          "metadata": {}
        }
      ]
    },
    {
      "cell_type": "markdown",
      "source": [
        "## Resultados de Performance\n",
        "\n",
        "\n",
        "**Observações:**\n",
        "- **DuckDB** apresentou tempos consistentes e muito baixos em todas as queries.  \n",
        "- **Polars** teve performance próxima ao DuckDB, com pequenas variações em agregações mais complexas.  \n",
        "- **Pandas** apresentou maior tempo de execução, especialmente em **Q1**.  \n",
        "- **PySpark** teve desempenho razoável, mas com overhead perceptível para dataset pequeno (SF=1).  \n",
        "\n",
        "\n",
        "**Análise dos Critérios**\n",
        "| Critério                   | Avaliação Comparativa                                                                                                                                                                                                                                       |\n",
        "| -------------------------- | ----------------------------------------------------------------------------------------------------------------------------------------------------------------------------------------------------------------------------------------------------------- |\n",
        "| **Performance**            | DuckDB e Polars foram os mais rápidos e consistentes. Pandas teve tempo muito alto (especialmente Q1). PySpark ficou intermediário, mas com overhead para dataset pequeno.                                                                                  |\n",
        "| **Uso de Recursos**        | Pandas consome bastante memória em joins/aggregações. PySpark exige overhead de cluster/executores mesmo em SF=1. DuckDB e Polars são mais eficientes em memória e CPU.                                                                                     |\n",
        "| **Facilidade de Uso**      | Pandas tem a curva de aprendizado mais baixa (muito difundido). Polars é bastante simples e tem API parecida com Pandas. DuckDB requer SQL (curva menor para quem já sabe SQL). PySpark exige mais configuração e código.                                   |\n",
        "| **Integração**             | Pandas lê bem CSV/Parquet, mas não escala. Polars suporta bem CSV, Parquet e Arrow. DuckDB integra facilmente com Parquet, Arrow, Pandas e até dados remotos. PySpark tem a maior flexibilidade em integrações (S3, Hive, Delta, etc.), mas com mais setup. |\n",
        "| **Custo / Infraestrutura** | Pandas, Polars e DuckDB rodam localmente sem necessidade de cluster. PySpark exige mais infraestrutura (mesmo em modo local, há overhead).                                                   |\n",
        "\n",
        "\n",
        "## Conclusão\n",
        "\n",
        "- Para cenários **em single-node e datasets até escala moderada**, **DuckDB** e **Polars** se mostraram as melhores opções, conciliando **performance, baixo uso de recursos e facilidade de integração com CSV/Parquet**.  \n",
        "- **Pandas** continua útil para prototipação, mas não escalou bem neste benchmark.  \n",
        "- **PySpark** é mais adequado para cenários **distribuídos e de grande escala**, mas não se destacou no dataset pequeno utilizado.  \n",
        "\n",
        "**Ferramentas escolhida:** **DuckDB**"
      ],
      "metadata": {
        "id": "0JcYmuCaPnaH"
      }
    }
  ]
}