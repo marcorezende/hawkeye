{
 "cells": [
  {
   "cell_type": "code",
   "id": "initial_id",
   "metadata": {
    "collapsed": true,
    "ExecuteTime": {
     "end_time": "2025-10-07T02:16:55.526754Z",
     "start_time": "2025-10-07T02:16:37.190721Z"
    }
   },
   "source": "!pip install weasyprint reportlab",
   "outputs": [
    {
     "name": "stdout",
     "output_type": "stream",
     "text": [
      "Collecting weasyprint\n",
      "  Obtaining dependency information for weasyprint from https://files.pythonhosted.org/packages/0f/d1/c5d9b341bf3d556c1e4c6566b3efdda0b1bb175510aa7b09dd3eee246923/weasyprint-66.0-py3-none-any.whl.metadata\n",
      "  Downloading weasyprint-66.0-py3-none-any.whl.metadata (3.7 kB)\n",
      "Collecting reportlab\n",
      "  Obtaining dependency information for reportlab from https://files.pythonhosted.org/packages/57/66/e040586fe6f9ae7f3a6986186653791fb865947f0b745290ee4ab026b834/reportlab-4.4.4-py3-none-any.whl.metadata\n",
      "  Downloading reportlab-4.4.4-py3-none-any.whl.metadata (1.7 kB)\n",
      "Collecting pydyf>=0.11.0 (from weasyprint)\n",
      "  Obtaining dependency information for pydyf>=0.11.0 from https://files.pythonhosted.org/packages/c9/ac/d5db977deaf28c6ecbc61bbca269eb3e8f0b3a1f55c8549e5333e606e005/pydyf-0.11.0-py3-none-any.whl.metadata\n",
      "  Using cached pydyf-0.11.0-py3-none-any.whl.metadata (2.5 kB)\n",
      "Requirement already satisfied: cffi>=0.6 in c:\\users\\marco.rezende\\documents\\hawkeye\\.venv\\lib\\site-packages (from weasyprint) (2.0.0)\n",
      "Collecting tinyhtml5>=2.0.0b1 (from weasyprint)\n",
      "  Obtaining dependency information for tinyhtml5>=2.0.0b1 from https://files.pythonhosted.org/packages/5c/de/27c57899297163a4a84104d5cec0af3b1ac5faf62f44667e506373c6b8ce/tinyhtml5-2.0.0-py3-none-any.whl.metadata\n",
      "  Using cached tinyhtml5-2.0.0-py3-none-any.whl.metadata (2.9 kB)\n",
      "Requirement already satisfied: tinycss2>=1.4.0 in c:\\users\\marco.rezende\\documents\\hawkeye\\.venv\\lib\\site-packages (from weasyprint) (1.4.0)\n",
      "Collecting cssselect2>=0.8.0 (from weasyprint)\n",
      "  Obtaining dependency information for cssselect2>=0.8.0 from https://files.pythonhosted.org/packages/0f/e7/aa315e6a749d9b96c2504a1ba0ba031ba2d0517e972ce22682e3fccecb09/cssselect2-0.8.0-py3-none-any.whl.metadata\n",
      "  Using cached cssselect2-0.8.0-py3-none-any.whl.metadata (2.9 kB)\n",
      "Collecting Pyphen>=0.9.1 (from weasyprint)\n",
      "  Obtaining dependency information for Pyphen>=0.9.1 from https://files.pythonhosted.org/packages/7b/1f/c2142d2edf833a90728e5cdeb10bdbdc094dde8dbac078cee0cf33f5e11b/pyphen-0.17.2-py3-none-any.whl.metadata\n",
      "  Using cached pyphen-0.17.2-py3-none-any.whl.metadata (3.2 kB)\n",
      "Collecting Pillow>=9.1.0 (from weasyprint)\n",
      "  Obtaining dependency information for Pillow>=9.1.0 from https://files.pythonhosted.org/packages/f1/cc/29c0f5d64ab8eae20f3232da8f8571660aa0ab4b8f1331da5c2f5f9a938e/pillow-11.3.0-cp311-cp311-win_amd64.whl.metadata\n",
      "  Using cached pillow-11.3.0-cp311-cp311-win_amd64.whl.metadata (9.2 kB)\n",
      "Collecting fonttools[woff]>=4.0.0 (from weasyprint)\n",
      "  Obtaining dependency information for fonttools[woff]>=4.0.0 from https://files.pythonhosted.org/packages/bb/78/0e1a6d22b427579ea5c8273e1c07def2f325b977faaf60bb7ddc01456cb1/fonttools-4.60.1-cp311-cp311-win_amd64.whl.metadata\n",
      "  Downloading fonttools-4.60.1-cp311-cp311-win_amd64.whl.metadata (114 kB)\n",
      "     ---------------------------------------- 0.0/114.6 kB ? eta -:--:--\n",
      "     ---------- ---------------------------- 30.7/114.6 kB 1.4 MB/s eta 0:00:01\n",
      "     ------------------- ----------------- 61.4/114.6 kB 656.4 kB/s eta 0:00:01\n",
      "     ------------------------------------ 114.6/114.6 kB 957.1 kB/s eta 0:00:00\n",
      "Requirement already satisfied: charset-normalizer in c:\\users\\marco.rezende\\documents\\hawkeye\\.venv\\lib\\site-packages (from reportlab) (3.4.3)\n",
      "Requirement already satisfied: pycparser in c:\\users\\marco.rezende\\documents\\hawkeye\\.venv\\lib\\site-packages (from cffi>=0.6->weasyprint) (2.23)\n",
      "Requirement already satisfied: webencodings in c:\\users\\marco.rezende\\documents\\hawkeye\\.venv\\lib\\site-packages (from cssselect2>=0.8.0->weasyprint) (0.5.1)\n",
      "Collecting brotli>=1.0.1 (from fonttools[woff]>=4.0.0->weasyprint)\n",
      "  Obtaining dependency information for brotli>=1.0.1 from https://files.pythonhosted.org/packages/02/8a/fece0ee1057643cb2a5bbf59682de13f1725f8482b2c057d4e799d7ade75/Brotli-1.1.0-cp311-cp311-win_amd64.whl.metadata\n",
      "  Using cached Brotli-1.1.0-cp311-cp311-win_amd64.whl.metadata (5.6 kB)\n",
      "Collecting zopfli>=0.1.4 (from fonttools[woff]>=4.0.0->weasyprint)\n",
      "  Obtaining dependency information for zopfli>=0.1.4 from https://files.pythonhosted.org/packages/e6/cc/07119cba00db12d7ef0472637b7d71a95f2c8e9a20ed460d759acd274887/zopfli-0.2.3.post1-cp311-cp311-win_amd64.whl.metadata\n",
      "  Using cached zopfli-0.2.3.post1-cp311-cp311-win_amd64.whl.metadata (3.0 kB)\n",
      "Downloading weasyprint-66.0-py3-none-any.whl (301 kB)\n",
      "   ---------------------------------------- 0.0/302.0 kB ? eta -:--:--\n",
      "   -------------- ------------------------- 112.6/302.0 kB 3.3 MB/s eta 0:00:01\n",
      "   ------------------------------- -------- 235.5/302.0 kB 2.4 MB/s eta 0:00:01\n",
      "   ---------------------------------------- 302.0/302.0 kB 2.7 MB/s eta 0:00:00\n",
      "Downloading reportlab-4.4.4-py3-none-any.whl (2.0 MB)\n",
      "   ---------------------------------------- 0.0/2.0 MB ? eta -:--:--\n",
      "   ----- ---------------------------------- 0.3/2.0 MB 15.4 MB/s eta 0:00:01\n",
      "   ------- -------------------------------- 0.4/2.0 MB 4.0 MB/s eta 0:00:01\n",
      "   ------------- -------------------------- 0.6/2.0 MB 4.5 MB/s eta 0:00:01\n",
      "   ----------------- ---------------------- 0.9/2.0 MB 4.6 MB/s eta 0:00:01\n",
      "   ----------------------- ---------------- 1.2/2.0 MB 4.9 MB/s eta 0:00:01\n",
      "   ----------------------------- ---------- 1.5/2.0 MB 5.2 MB/s eta 0:00:01\n",
      "   ------------------------------- -------- 1.6/2.0 MB 5.2 MB/s eta 0:00:01\n",
      "   ---------------------------------- ----- 1.7/2.0 MB 4.7 MB/s eta 0:00:01\n",
      "   ---------------------------------------- 2.0/2.0 MB 4.8 MB/s eta 0:00:00\n",
      "Using cached cssselect2-0.8.0-py3-none-any.whl (15 kB)\n",
      "Using cached pillow-11.3.0-cp311-cp311-win_amd64.whl (7.0 MB)\n",
      "Using cached pydyf-0.11.0-py3-none-any.whl (8.1 kB)\n",
      "Using cached pyphen-0.17.2-py3-none-any.whl (2.1 MB)\n",
      "Using cached tinyhtml5-2.0.0-py3-none-any.whl (39 kB)\n",
      "Using cached Brotli-1.1.0-cp311-cp311-win_amd64.whl (357 kB)\n",
      "Using cached zopfli-0.2.3.post1-cp311-cp311-win_amd64.whl (99 kB)\n",
      "Downloading fonttools-4.60.1-cp311-cp311-win_amd64.whl (2.3 MB)\n",
      "   ---------------------------------------- 0.0/2.3 MB ? eta -:--:--\n",
      "   ---- ----------------------------------- 0.2/2.3 MB 7.3 MB/s eta 0:00:01\n",
      "   -------- ------------------------------- 0.5/2.3 MB 5.8 MB/s eta 0:00:01\n",
      "   -------------- ------------------------- 0.8/2.3 MB 6.0 MB/s eta 0:00:01\n",
      "   ---------------- ----------------------- 0.9/2.3 MB 6.7 MB/s eta 0:00:01\n",
      "   ----------------------- ---------------- 1.3/2.3 MB 5.6 MB/s eta 0:00:01\n",
      "   --------------------------- ------------ 1.6/2.3 MB 5.9 MB/s eta 0:00:01\n",
      "   ----------------------------------- ---- 2.0/2.3 MB 6.4 MB/s eta 0:00:01\n",
      "   ------------------------------------- -- 2.1/2.3 MB 6.1 MB/s eta 0:00:01\n",
      "   ---------------------------------------- 2.3/2.3 MB 5.8 MB/s eta 0:00:00\n",
      "Installing collected packages: brotli, zopfli, tinyhtml5, Pyphen, pydyf, Pillow, fonttools, reportlab, cssselect2, weasyprint\n",
      "Successfully installed Pillow-11.3.0 Pyphen-0.17.2 brotli-1.1.0 cssselect2-0.8.0 fonttools-4.60.1 pydyf-0.11.0 reportlab-4.4.4 tinyhtml5-2.0.0 weasyprint-66.0 zopfli-0.2.3.post1\n"
     ]
    },
    {
     "name": "stderr",
     "output_type": "stream",
     "text": [
      "\n",
      "[notice] A new release of pip is available: 23.2.1 -> 25.2\n",
      "[notice] To update, run: python.exe -m pip install --upgrade pip\n"
     ]
    }
   ],
   "execution_count": 1
  },
  {
   "metadata": {
    "ExecuteTime": {
     "end_time": "2025-10-07T02:22:02.998626Z",
     "start_time": "2025-10-07T02:22:02.938896Z"
    }
   },
   "cell_type": "code",
   "source": [
    "from weasyprint import HTML\n",
    "\n",
    "html_content = f\"\"\"\n",
    "<html>\n",
    "<head>\n",
    "    <style>\n",
    "        body {{\n",
    "            font-family: Arial, sans-serif;\n",
    "            margin: 40px;\n",
    "        }}\n",
    "        img {{\n",
    "            width: 300px;\n",
    "            display: block;\n",
    "            margin-bottom: 20px;\n",
    "        }}\n",
    "        h1 {{\n",
    "            color: #333;\n",
    "        }}\n",
    "    </style>\n",
    "</head>\n",
    "<body>\n",
    "    <h1>WeasyPrint PDF Exemplo</h1>\n",
    "    <img src=\"icon-design-test-paper_362714-11527.jpg\" alt=\"Exemplo Imagem\" />\n",
    "    <p>\n",
    "        Lorem ipsum dolor sit amet, consectetur adipiscing elit. Donec dignissim,\n",
    "        justo ac elementum viverra, risus justo sagittis mi, ac luctus eros turpis\n",
    "        et felis. Maecenas sit amet nisi at nulla faucibus luctus.\n",
    "    </p>\n",
    "</body>\n",
    "</html>\n",
    "\"\"\"\n",
    "\n",
    "HTML(string=html_content, base_url='.').write_pdf(\"weasyprint_output.pdf\")\n"
   ],
   "id": "9faac94119361a5d",
   "outputs": [],
   "execution_count": 5
  },
  {
   "metadata": {
    "ExecuteTime": {
     "end_time": "2025-10-07T02:22:05.342881Z",
     "start_time": "2025-10-07T02:22:05.287123Z"
    }
   },
   "cell_type": "code",
   "source": [
    "from reportlab.lib.pagesizes import A4\n",
    "from reportlab.platypus import SimpleDocTemplate, Image, Paragraph, Spacer\n",
    "from reportlab.lib.styles import getSampleStyleSheet\n",
    "\n",
    "doc = SimpleDocTemplate(\"reportlab_output.pdf\", pagesize=A4)\n",
    "styles = getSampleStyleSheet()\n",
    "story = []\n",
    "\n",
    "story.append(Image(\"icon-design-test-paper_362714-11527.jpg\", width=300, height=200))\n",
    "story.append(Spacer(1, 20))\n",
    "\n",
    "lorem = (\n",
    "    \"Lorem ipsum dolor sit amet, consectetur adipiscing elit. \"\n",
    "    \"Donec dignissim, justo ac elementum viverra, risus justo sagittis mi, \"\n",
    "    \"ac luctus eros turpis et felis. Maecenas sit amet nisi at nulla faucibus luctus.\"\n",
    ")\n",
    "story.append(Paragraph(\"ReportLab PDF Exemplo\", styles[\"Heading1\"]))\n",
    "story.append(Paragraph(lorem, styles[\"BodyText\"]))\n",
    "\n",
    "doc.build(story)"
   ],
   "id": "837365d4f0cfd7a3",
   "outputs": [],
   "execution_count": 6
  },
  {
   "metadata": {},
   "cell_type": "markdown",
   "source": [
    "| Métrica                    | WeasyPrint | ReportLab |\n",
    "|----------------------------|------------|-----------|\n",
    "| Tempo de geração           | 59 ms      | 55 ms     |\n",
    "| Tamanho do arquivo         | 103 KB     | 136 KB    |\n",
    "| Facilidade de uso (0 a 10) | 10         | 5         |\n",
    "\n"
   ],
   "id": "6c5ee7ceff616a90"
  }
 ],
 "metadata": {
  "kernelspec": {
   "display_name": "Python 3",
   "language": "python",
   "name": "python3"
  },
  "language_info": {
   "codemirror_mode": {
    "name": "ipython",
    "version": 2
   },
   "file_extension": ".py",
   "mimetype": "text/x-python",
   "name": "python",
   "nbconvert_exporter": "python",
   "pygments_lexer": "ipython2",
   "version": "2.7.6"
  }
 },
 "nbformat": 4,
 "nbformat_minor": 5
}
