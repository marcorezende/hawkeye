{
 "cells": [
  {
   "metadata": {},
   "cell_type": "markdown",
   "source": "## Instalação",
   "id": "342828eb0ef86238"
  },
  {
   "metadata": {},
   "cell_type": "code",
   "outputs": [],
   "execution_count": null,
   "source": "!pip install weasyprint reportlab",
   "id": "b5a8d9283e9b4094"
  },
  {
   "metadata": {},
   "cell_type": "markdown",
   "source": "## Weasyprint",
   "id": "732df8c18ea02257"
  },
  {
   "metadata": {},
   "cell_type": "code",
   "outputs": [],
   "execution_count": null,
   "source": [
    "from weasyprint import HTML\n",
    "\n",
    "html_content = f\"\"\"\n",
    "<html>\n",
    "<head>\n",
    "    <style>\n",
    "        body {{\n",
    "            font-family: Arial, sans-serif;\n",
    "            margin: 40px;\n",
    "        }}\n",
    "        img {{\n",
    "            width: 300px;\n",
    "            display: block;\n",
    "            margin-bottom: 20px;\n",
    "        }}\n",
    "        h1 {{\n",
    "            color: #333;\n",
    "        }}\n",
    "    </style>\n",
    "</head>\n",
    "<body>\n",
    "    <h1>WeasyPrint PDF Exemplo</h1>\n",
    "    <img src=\"icon-design-test-paper_362714-11527.jpg\" alt=\"Exemplo Imagem\" />\n",
    "    <p>\n",
    "        Lorem ipsum dolor sit amet, consectetur adipiscing elit. Donec dignissim,\n",
    "        justo ac elementum viverra, risus justo sagittis mi, ac luctus eros turpis\n",
    "        et felis. Maecenas sit amet nisi at nulla faucibus luctus.\n",
    "    </p>\n",
    "</body>\n",
    "</html>\n",
    "\"\"\"\n",
    "\n",
    "HTML(string=html_content, base_url='.').write_pdf(\"weasyprint_output.pdf\")\n"
   ],
   "id": "bf2ec7e58c5972cc"
  },
  {
   "metadata": {
    "ExecuteTime": {
     "end_time": "2025-10-07T02:33:03.370255Z",
     "start_time": "2025-10-07T02:33:03.365819Z"
    }
   },
   "cell_type": "code",
   "source": [
    "from IPython.display import IFrame\n",
    "\n",
    "# Display the PDF inline\n",
    "IFrame(\"weasyprint_output.pdf\", width=800, height=600)\n"
   ],
   "id": "76dc41745369903b",
   "outputs": [
    {
     "data": {
      "text/plain": [
       "<IPython.lib.display.IFrame at 0x2439513d850>"
      ],
      "text/html": [
       "\n",
       "        <iframe\n",
       "            width=\"800\"\n",
       "            height=\"600\"\n",
       "            src=\"weasyprint_output.pdf\"\n",
       "            frameborder=\"0\"\n",
       "            allowfullscreen\n",
       "            \n",
       "        ></iframe>\n",
       "        "
      ]
     },
     "execution_count": 9,
     "metadata": {},
     "output_type": "execute_result"
    }
   ],
   "execution_count": 9
  },
  {
   "metadata": {},
   "cell_type": "markdown",
   "source": "## ReportLab",
   "id": "a0a446dc12cc0c4"
  },
  {
   "metadata": {},
   "cell_type": "code",
   "outputs": [],
   "execution_count": null,
   "source": [
    "from reportlab.lib.pagesizes import A4\n",
    "from reportlab.platypus import SimpleDocTemplate, Image, Paragraph, Spacer\n",
    "from reportlab.lib.styles import getSampleStyleSheet\n",
    "\n",
    "doc = SimpleDocTemplate(\"reportlab_output.pdf\", pagesize=A4)\n",
    "styles = getSampleStyleSheet()\n",
    "story = []\n",
    "\n",
    "story.append(Image(\"icon-design-test-paper_362714-11527.jpg\", width=300, height=200))\n",
    "story.append(Spacer(1, 20))\n",
    "\n",
    "lorem = (\n",
    "    \"Lorem ipsum dolor sit amet, consectetur adipiscing elit. \"\n",
    "    \"Donec dignissim, justo ac elementum viverra, risus justo sagittis mi, \"\n",
    "    \"ac luctus eros turpis et felis. Maecenas sit amet nisi at nulla faucibus luctus.\"\n",
    ")\n",
    "story.append(Paragraph(\"ReportLab PDF Exemplo\", styles[\"Heading1\"]))\n",
    "story.append(Paragraph(lorem, styles[\"BodyText\"]))\n",
    "\n",
    "doc.build(story)"
   ],
   "id": "9eab41d352f25325"
  },
  {
   "metadata": {
    "ExecuteTime": {
     "end_time": "2025-10-07T02:33:06.484708Z",
     "start_time": "2025-10-07T02:33:06.479025Z"
    }
   },
   "cell_type": "code",
   "source": [
    "from IPython.display import IFrame\n",
    "\n",
    "# Display the PDF inline\n",
    "IFrame(\"reportlab_output.pdf\", width=800, height=600)\n"
   ],
   "id": "77b5d3a6b31e24a7",
   "outputs": [
    {
     "data": {
      "text/plain": [
       "<IPython.lib.display.IFrame at 0x243952a0450>"
      ],
      "text/html": [
       "\n",
       "        <iframe\n",
       "            width=\"800\"\n",
       "            height=\"600\"\n",
       "            src=\"reportlab_output.pdf\"\n",
       "            frameborder=\"0\"\n",
       "            allowfullscreen\n",
       "            \n",
       "        ></iframe>\n",
       "        "
      ]
     },
     "execution_count": 10,
     "metadata": {},
     "output_type": "execute_result"
    }
   ],
   "execution_count": 10
  },
  {
   "metadata": {},
   "cell_type": "markdown",
   "source": "## Conclusão",
   "id": "8692ef0ba70cad18"
  },
  {
   "metadata": {},
   "cell_type": "markdown",
   "source": [
    "| Métrica                    | WeasyPrint | ReportLab |\n",
    "|----------------------------|------------|-----------|\n",
    "| Tempo de geração           | 59 ms      | 55 ms     |\n",
    "| Tamanho do arquivo         | 103 KB     | 136 KB    |\n",
    "| Facilidade de uso (0 a 10) | 10         | 5         |\n",
    "\n"
   ],
   "id": "422c3cb342a113f5"
  }
 ],
 "metadata": {
  "kernelspec": {
   "display_name": "Python 3",
   "language": "python",
   "name": "python3"
  },
  "language_info": {
   "codemirror_mode": {
    "name": "ipython",
    "version": 2
   },
   "file_extension": ".py",
   "mimetype": "text/x-python",
   "name": "python",
   "nbconvert_exporter": "python",
   "pygments_lexer": "ipython2",
   "version": "2.7.6"
  }
 },
 "nbformat": 4,
 "nbformat_minor": 5
}
